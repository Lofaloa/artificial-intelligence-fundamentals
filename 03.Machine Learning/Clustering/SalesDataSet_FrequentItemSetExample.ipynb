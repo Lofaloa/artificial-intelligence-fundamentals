{
  "nbformat": 4,
  "nbformat_minor": 0,
  "metadata": {
    "colab": {
      "name": "Machine learning (sales dataset).ipynb",
      "provenance": [],
      "collapsed_sections": []
    },
    "kernelspec": {
      "name": "python3",
      "display_name": "Python 3"
    }
  },
  "cells": [
    {
      "cell_type": "code",
      "metadata": {
        "id": "MogipvE-Hz4H",
        "outputId": "90d82460-da13-4e04-e071-3d8fe561ee52",
        "colab": {
          "base_uri": "https://localhost:8080/",
          "height": 190
        }
      },
      "source": [
        "# pip install apyori"
      ],
      "execution_count": null,
      "outputs": [
        {
          "output_type": "stream",
          "text": [
            "Collecting apyori\n",
            "  Downloading https://files.pythonhosted.org/packages/5e/62/5ffde5c473ea4b033490617ec5caa80d59804875ad3c3c57c0976533a21a/apyori-1.1.2.tar.gz\n",
            "Building wheels for collected packages: apyori\n",
            "  Building wheel for apyori (setup.py) ... \u001b[?25l\u001b[?25hdone\n",
            "  Created wheel for apyori: filename=apyori-1.1.2-cp36-none-any.whl size=5975 sha256=e4d14aefa30eaefbcfb45b91e8dc95595c00d1db068e150c353d219e4bdce027\n",
            "  Stored in directory: /root/.cache/pip/wheels/5d/92/bb/474bbadbc8c0062b9eb168f69982a0443263f8ab1711a8cad0\n",
            "Successfully built apyori\n",
            "Installing collected packages: apyori\n",
            "Successfully installed apyori-1.1.2\n"
          ],
          "name": "stdout"
        }
      ]
    },
    {
      "cell_type": "code",
      "metadata": {
        "id": "zDls5wEGIhxJ"
      },
      "source": [
        "# Import modules\n",
        "import pandas as pd\n",
        "import numpy as np\n",
        "from apyori import apriori"
      ],
      "execution_count": 41,
      "outputs": []
    },
    {
      "cell_type": "code",
      "metadata": {
        "id": "4WbCqsI5Io0E",
        "outputId": "48f0355b-db46-44ac-f1e5-1861ac8e7bc1",
        "colab": {
          "base_uri": "https://localhost:8080/",
          "height": 423
        }
      },
      "source": [
        "# Import data\n",
        "data = pd.read_csv(\"/content/drive/My Drive/Colab Notebooks/sales.csv\")\n",
        "print(data.head().to_markdown())\n",
        "\n",
        "pData = pd.get_dummies(data, columns=[\"Produit\"])\n",
        "gData = pData.groupby([\"Customer\",\"Semaine\"]).max()\n",
        "gData = gData.drop(\"Unnamed: 0\", axis = 1)\n",
        "gData = gData.drop(\"Qty\", axis = 1)\n",
        "\n",
        "print(pData.head().to_markdown())\n",
        "print(gData.head())"
      ],
      "execution_count": 44,
      "outputs": [
        {
          "output_type": "stream",
          "text": [
            "|    |   Unnamed: 0 |   Semaine |   Customer | Produit    | Qty   |\n",
            "|---:|-------------:|----------:|-----------:|:-----------|:------|\n",
            "|  0 |            1 |         1 |          1 | pates      | True  |\n",
            "|  1 |            2 |         1 |          1 | vin rouge  | True  |\n",
            "|  2 |            3 |         1 |          1 | chocololat | True  |\n",
            "|  3 |            4 |         1 |          1 | olives     | True  |\n",
            "|  4 |            5 |         1 |          1 | cure-dents | True  |\n",
            "|    |   Unnamed: 0 |   Semaine |   Customer | Qty   |   Produit_biere |   Produit_bolo |   Produit_chocololat |   Produit_cure-dents |   Produit_dextro |   Produit_eau |   Produit_lait poudre |   Produit_langes |   Produit_olives |   Produit_pates |   Produit_poires |   Produit_pommes |   Produit_serviette |   Produit_soda |   Produit_tomates |   Produit_vin rouge |\n",
            "|---:|-------------:|----------:|-----------:|:------|----------------:|---------------:|---------------------:|---------------------:|-----------------:|--------------:|----------------------:|-----------------:|-----------------:|----------------:|-----------------:|-----------------:|--------------------:|---------------:|------------------:|--------------------:|\n",
            "|  0 |            1 |         1 |          1 | True  |               0 |              0 |                    0 |                    0 |                0 |             0 |                     0 |                0 |                0 |               1 |                0 |                0 |                   0 |              0 |                 0 |                   0 |\n",
            "|  1 |            2 |         1 |          1 | True  |               0 |              0 |                    0 |                    0 |                0 |             0 |                     0 |                0 |                0 |               0 |                0 |                0 |                   0 |              0 |                 0 |                   1 |\n",
            "|  2 |            3 |         1 |          1 | True  |               0 |              0 |                    1 |                    0 |                0 |             0 |                     0 |                0 |                0 |               0 |                0 |                0 |                   0 |              0 |                 0 |                   0 |\n",
            "|  3 |            4 |         1 |          1 | True  |               0 |              0 |                    0 |                    0 |                0 |             0 |                     0 |                0 |                1 |               0 |                0 |                0 |                   0 |              0 |                 0 |                   0 |\n",
            "|  4 |            5 |         1 |          1 | True  |               0 |              0 |                    0 |                    1 |                0 |             0 |                     0 |                0 |                0 |               0 |                0 |                0 |                   0 |              0 |                 0 |                   0 |\n",
            "                  Produit_biere  ...  Produit_vin rouge\n",
            "Customer Semaine                 ...                   \n",
            "1        1                    0  ...                  1\n",
            "         2                    0  ...                  1\n",
            "         3                    0  ...                  1\n",
            "         4                    0  ...                  1\n",
            "         5                    0  ...                  1\n",
            "\n",
            "[5 rows x 16 columns]\n"
          ],
          "name": "stdout"
        }
      ]
    },
    {
      "cell_type": "code",
      "metadata": {
        "id": "k_Vp2yW_GutH",
        "outputId": "c94ba073-3d65-4de8-ee27-bd625051627a",
        "colab": {
          "base_uri": "https://localhost:8080/",
          "height": 87
        }
      },
      "source": [
        "# Use APRIORI model\n",
        "items = []\n",
        "for i in range(0,gData.shape[0]):\n",
        "  items.append(gData.columns[gData.iloc[i]==1].values.tolist())\n",
        "\n",
        "rulesGenerator = apriori(items, min_support=0.2, min_confidence=0.7)\n",
        "itemSets = list(rulesGenerator)\n",
        "print(itemSets, \"\\n\")\n",
        "rules = []\n",
        "for itemSet in itemSets:\n",
        "  if \"Produit_chocololat\" in itemSet.items: \n",
        "    for rule in itemSet.ordered_statistics :\n",
        "      if \"Produit_chocololat\" in rule.items_add:\n",
        "        rules.append([rule, itemSet.support])\n",
        "\n",
        "print(rules)"
      ],
      "execution_count": 46,
      "outputs": [
        {
          "output_type": "stream",
          "text": [
            "[RelationRecord(items=frozenset({'Produit_lait poudre', 'Produit_chocololat'}), support=0.24671385237613752, ordered_statistics=[OrderedStatistic(items_base=frozenset({'Produit_lait poudre'}), items_add=frozenset({'Produit_chocololat'}), confidence=0.7507692307692307, lift=1.3118564827398749)]), RelationRecord(items=frozenset({'Produit_langes', 'Produit_chocololat'}), support=0.28816986855409504, ordered_statistics=[OrderedStatistic(items_base=frozenset({'Produit_langes'}), items_add=frozenset({'Produit_chocololat'}), confidence=0.7441253263707572, lift=1.3002472575630368)]), RelationRecord(items=frozenset({'Produit_lait poudre', 'Produit_langes'}), support=0.25985844287158744, ordered_statistics=[OrderedStatistic(items_base=frozenset({'Produit_lait poudre'}), items_add=frozenset({'Produit_langes'}), confidence=0.7907692307692307, lift=2.0419602329785094)]), RelationRecord(items=frozenset({'Produit_lait poudre', 'Produit_pates'}), support=0.2416582406471183, ordered_statistics=[OrderedStatistic(items_base=frozenset({'Produit_lait poudre'}), items_add=frozenset({'Produit_pates'}), confidence=0.7353846153846153, lift=1.2872484683458134)]), RelationRecord(items=frozenset({'Produit_langes', 'Produit_pates'}), support=0.28816986855409504, ordered_statistics=[OrderedStatistic(items_base=frozenset({'Produit_langes'}), items_add=frozenset({'Produit_pates'}), confidence=0.7441253263707572, lift=1.3025485801427945)]), RelationRecord(items=frozenset({'Produit_pates', 'Produit_tomates'}), support=0.31648129423660265, ordered_statistics=[OrderedStatistic(items_base=frozenset({'Produit_tomates'}), items_add=frozenset({'Produit_pates'}), confidence=0.8505434782608696, lift=1.4888274336283187)]), RelationRecord(items=frozenset({'Produit_langes', 'Produit_chocololat', 'Produit_pates'}), support=0.21132457027300303, ordered_statistics=[OrderedStatistic(items_base=frozenset({'Produit_langes', 'Produit_chocololat'}), items_add=frozenset({'Produit_pates'}), confidence=0.7333333333333333, lift=1.2836578171091446), OrderedStatistic(items_base=frozenset({'Produit_langes', 'Produit_pates'}), items_add=frozenset({'Produit_chocololat'}), confidence=0.7333333333333333, lift=1.2813898704358067)])] \n",
            "\n",
            "[[OrderedStatistic(items_base=frozenset({'Produit_lait poudre'}), items_add=frozenset({'Produit_chocololat'}), confidence=0.7507692307692307, lift=1.3118564827398749), 0.24671385237613752], [OrderedStatistic(items_base=frozenset({'Produit_langes'}), items_add=frozenset({'Produit_chocololat'}), confidence=0.7441253263707572, lift=1.3002472575630368), 0.28816986855409504], [OrderedStatistic(items_base=frozenset({'Produit_langes', 'Produit_pates'}), items_add=frozenset({'Produit_chocololat'}), confidence=0.7333333333333333, lift=1.2813898704358067), 0.21132457027300303]]\n"
          ],
          "name": "stdout"
        }
      ]
    },
    {
      "cell_type": "code",
      "metadata": {
        "id": "YQOOgkbzMM3R",
        "outputId": "e6bc7958-eea5-4ce3-960f-4e464e9a2109",
        "colab": {
          "base_uri": "https://localhost:8080/",
          "height": 67
        }
      },
      "source": [
        "def displayRule(rList):\n",
        "  r = rList[0]\n",
        "  strConf = \"Conf: \" + str(round(r.confidence,2))\n",
        "  strSupp = \"Supp: \" + str(round(rList[1],2))\n",
        "  strRule = ', '.join(r.items_base) + \" => \" + ', '.join(r.items_add)\n",
        "  print(strConf + \" \" + strSupp + \" - \" + strRule)\n",
        "\n",
        "for rule in rules:\n",
        "    displayRule(rule)"
      ],
      "execution_count": 47,
      "outputs": [
        {
          "output_type": "stream",
          "text": [
            "Conf: 0.75 Supp: 0.25 - Produit_lait poudre => Produit_chocololat\n",
            "Conf: 0.74 Supp: 0.29 - Produit_langes => Produit_chocololat\n",
            "Conf: 0.73 Supp: 0.21 - Produit_langes, Produit_pates => Produit_chocololat\n"
          ],
          "name": "stdout"
        }
      ]
    }
  ]
}