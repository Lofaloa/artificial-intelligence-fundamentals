{
  "nbformat": 4,
  "nbformat_minor": 0,
  "metadata": {
    "colab": {
      "name": "Basics.ipynb",
      "provenance": [],
      "collapsed_sections": [
        "mDxX2tkXwK01",
        "boWdoiFL8WIf",
        "GcgfvMSi8_3r",
        "383GmlUMw11g",
        "_zKUPsAP8sph",
        "tHY0tEkP9OKS",
        "NnJLhkXluHog",
        "S29S3GSWdfoh",
        "VrJ5nudcdkZb",
        "lVY1ZvDudreJ",
        "vkmntKShe_zj",
        "Wwc7uuYCzg9m",
        "SzfQ8Wk885BX",
        "gRkwF3X19S7G",
        "MX1Rlh2ni53o",
        "zO1m_g15jymk",
        "GrbNS6CO1d7e",
        "kpA3xyEZ1jcT",
        "wbE41Bc4kxDU",
        "oJrWcB5RaSi3",
        "AONocVGaj3fR",
        "IB0RHG6CnSQd",
        "3hsHk-nEnW0M",
        "Jkm3Phz01V55",
        "ytM7InOE4M7I",
        "cidrEGzYwtce",
        "VN1rTClD18KI",
        "znSlRe4Yr4wY"
      ],
      "toc_visible": true
    },
    "kernelspec": {
      "name": "python3",
      "display_name": "Python 3"
    }
  },
  "cells": [
    {
      "cell_type": "markdown",
      "metadata": {
        "id": "mDxX2tkXwK01"
      },
      "source": [
        "# 1. Basics"
      ]
    },
    {
      "cell_type": "markdown",
      "metadata": {
        "id": "boWdoiFL8WIf"
      },
      "source": [
        "## 1.1 Theory & Examples"
      ]
    },
    {
      "cell_type": "markdown",
      "metadata": {
        "id": "9PRAsUZAgTfn"
      },
      "source": [
        "1. Object creation. An integer (300000) is created and stored in RAM (mémoire vive)\n",
        "2. Variable definition. Its name (identifier) is “prix”\n",
        "3. Variable assignation. Variable “prix” is assigned the object 300000; the variable is a reference towards the object 300000\n"
      ]
    },
    {
      "cell_type": "code",
      "metadata": {
        "id": "qpMQhqs_gpS_",
        "outputId": "77aaa91a-dee8-4af1-88eb-31ca0a8b6c35",
        "colab": {
          "base_uri": "https://localhost:8080/",
          "height": 51
        }
      },
      "source": [
        "# Assignation of a variable, of which the identifier is \"price\"\n",
        "price = 300000\n",
        "\n",
        "# Basic function call, \"print()\", which allows to display the variable in the console\n",
        "print(price) \n",
        "\n",
        "price = 50\n",
        "\n",
        "print(price)"
      ],
      "execution_count": null,
      "outputs": [
        {
          "output_type": "stream",
          "text": [
            "300000\n",
            "50\n"
          ],
          "name": "stdout"
        }
      ]
    },
    {
      "cell_type": "code",
      "metadata": {
        "id": "gLikHn0uh0P-",
        "outputId": "ceef1f71-ce78-48c5-f0ce-84db73691909",
        "colab": {
          "base_uri": "https://localhost:8080/",
          "height": 51
        }
      },
      "source": [
        "# we can write several instructions on the same line, using the symbol \";\"\n",
        "a = 100000; b = 200000; c = 300000\n",
        "print(a + b \\\n",
        "      +c)\n",
        "a = 50\n",
        "# we can write a single instruction on multiple lines, using the symbol \"\\\"\n",
        "print(a + b + c)"
      ],
      "execution_count": null,
      "outputs": [
        {
          "output_type": "stream",
          "text": [
            "600000\n",
            "500050\n"
          ],
          "name": "stdout"
        }
      ]
    },
    {
      "cell_type": "code",
      "metadata": {
        "id": "uSYbY_OgiSJj"
      },
      "source": [
        "# Valid identifier\n",
        "_variable = 1\n",
        "PrixPomme = 5\n",
        "prixpomme = 10\n",
        "prix_pomme = 15\n",
        "\n",
        "print(PrixPomme, prixpomme, prix_pomme)\n",
        "\n",
        "# Invalid identifiers\n",
        "2variable = 1\n",
        "v@ri@ble = 1"
      ],
      "execution_count": null,
      "outputs": []
    },
    {
      "cell_type": "code",
      "metadata": {
        "id": "rWR1Ycz4fhNu"
      },
      "source": [
        "prix = \"5\"\n",
        "print(prix)"
      ],
      "execution_count": null,
      "outputs": []
    },
    {
      "cell_type": "markdown",
      "metadata": {
        "id": "Lt5_RYq7i1a-"
      },
      "source": [
        "There's no need to define the data type, the Python interpreter understands it itself: "
      ]
    },
    {
      "cell_type": "code",
      "metadata": {
        "id": "5LoRICBoioMC"
      },
      "source": [
        "my_int = 250000\n",
        "my_float = 1.25\n",
        "my_boolean = True\n",
        "my_string = \"Rue de Bruxelles\" \n",
        "# note the quotes to define the string"
      ],
      "execution_count": null,
      "outputs": []
    },
    {
      "cell_type": "code",
      "metadata": {
        "id": "W6TrxZFR0INY",
        "outputId": "945a52fc-7686-4ab1-c54c-3a3d1674db2c",
        "colab": {
          "base_uri": "https://localhost:8080/",
          "height": 68
        }
      },
      "source": [
        "var1 = 5\n",
        "var2 = 7\n",
        "var3 = \"5\"\n",
        "var4 = \"7\"\n",
        "print(var1 + var2)\n",
        "print(var3 + var4)\n",
        "print(var1 + int(var4))"
      ],
      "execution_count": null,
      "outputs": [
        {
          "output_type": "stream",
          "text": [
            "12\n",
            "57\n",
            "12\n"
          ],
          "name": "stdout"
        }
      ]
    },
    {
      "cell_type": "code",
      "metadata": {
        "id": "amVQu-eHjTQV"
      },
      "source": [
        "print(my_int, my_float, my_boolean, my_string)"
      ],
      "execution_count": null,
      "outputs": []
    },
    {
      "cell_type": "code",
      "metadata": {
        "id": "fPF6PUvdjYwc",
        "outputId": "7ddad929-3570-4d1d-cb48-e14147e4c4b3",
        "colab": {
          "base_uri": "https://localhost:8080/",
          "height": 34
        }
      },
      "source": [
        "print(type(my_string))"
      ],
      "execution_count": null,
      "outputs": [
        {
          "output_type": "stream",
          "text": [
            "<class 'str'>\n"
          ],
          "name": "stdout"
        }
      ]
    },
    {
      "cell_type": "markdown",
      "metadata": {
        "id": "JsVo8Mg5jlBr"
      },
      "source": [
        "We can also dynamically modify the type of variables: "
      ]
    },
    {
      "cell_type": "code",
      "metadata": {
        "id": "lWD4-nPsjsBu",
        "outputId": "3f0921a8-50cd-4a00-af79-1e96ce0161a0",
        "colab": {
          "base_uri": "https://localhost:8080/",
          "height": 34
        }
      },
      "source": [
        "my_string = \"5.5\"\n",
        "type(my_string)"
      ],
      "execution_count": null,
      "outputs": [
        {
          "output_type": "execute_result",
          "data": {
            "text/plain": [
              "str"
            ]
          },
          "metadata": {
            "tags": []
          },
          "execution_count": 31
        }
      ]
    },
    {
      "cell_type": "markdown",
      "metadata": {
        "id": "-6mn35C5lliE"
      },
      "source": [
        "**Type Conversion (Casting).** \n",
        "When possible, a type of data can be converted into another type of data: \n",
        "* Convert an int into a str: str(4) --> \"4\"\n",
        "* Convert a str into an int: int(\"4\") --> 4\n",
        "* Convert a float into an int: int(4.8) --> 4\n",
        "* Convert into a boolean: bool(\"\"), bool(0.0), bool(0) --> False. Anyhting else will return True"
      ]
    },
    {
      "cell_type": "code",
      "metadata": {
        "id": "W66mt-94mTkY",
        "outputId": "27b6a823-8693-415d-aaf7-96baf69deff3",
        "colab": {
          "base_uri": "https://localhost:8080/",
          "height": 68
        }
      },
      "source": [
        "print(bool(\"\"), bool(0.0), bool(0))\n",
        "print(bool(\"0\"), bool(-1.2), bool(-10), bool(\"hi\"))\n",
        "str(True), str(False), int(True), int(False), float(True), float(False)"
      ],
      "execution_count": null,
      "outputs": [
        {
          "output_type": "stream",
          "text": [
            "False False False\n",
            "True True True True\n"
          ],
          "name": "stdout"
        },
        {
          "output_type": "execute_result",
          "data": {
            "text/plain": [
              "('True', 'False', 1, 0, 1.0, 0.0)"
            ]
          },
          "metadata": {
            "tags": []
          },
          "execution_count": 30
        }
      ]
    },
    {
      "cell_type": "code",
      "metadata": {
        "id": "H9wnkrBk1wkU",
        "outputId": "6867db48-3241-400f-c9b3-26fa1dc19992",
        "colab": {
          "base_uri": "https://localhost:8080/",
          "height": 34
        }
      },
      "source": [
        "var1 = 4\n",
        "print(\"Ma variable est \" + str(var1))"
      ],
      "execution_count": null,
      "outputs": [
        {
          "output_type": "stream",
          "text": [
            "Ma variable est 4\n"
          ],
          "name": "stdout"
        }
      ]
    },
    {
      "cell_type": "code",
      "metadata": {
        "id": "WWhwXtBqmuie",
        "outputId": "f874cc16-bdb1-4d36-ccff-3229bee5e751",
        "colab": {
          "base_uri": "https://localhost:8080/",
          "height": 34
        }
      },
      "source": [
        "print(int(3.999), float(\"3.5\"), str(3.5), bool(4.2), bool(-2), bool(0))"
      ],
      "execution_count": null,
      "outputs": [
        {
          "output_type": "stream",
          "text": [
            "3 3.5 3.5 True True False\n"
          ],
          "name": "stdout"
        }
      ]
    },
    {
      "cell_type": "code",
      "metadata": {
        "id": "qwIzcHnsvVNC",
        "outputId": "24118f1d-ca36-494f-9623-31c905d54e4e",
        "colab": {
          "base_uri": "https://localhost:8080/",
          "height": 34
        }
      },
      "source": [
        "print(3/2, 3//2, 3*2, 3**2, 14%3) "
      ],
      "execution_count": null,
      "outputs": [
        {
          "output_type": "stream",
          "text": [
            "1.5 1 6 9 2\n"
          ],
          "name": "stdout"
        }
      ]
    },
    {
      "cell_type": "code",
      "metadata": {
        "id": "UTm85cnTELmw",
        "outputId": "b82ba86a-abe0-42e1-ca68-84d028b33888",
        "colab": {
          "base_uri": "https://localhost:8080/",
          "height": 51
        }
      },
      "source": [
        "a = input(\"Quel est votre nom?\")\n",
        "print(a)"
      ],
      "execution_count": null,
      "outputs": [
        {
          "output_type": "stream",
          "text": [
            "Quel est votre nom?4\n",
            "4\n"
          ],
          "name": "stdout"
        }
      ]
    },
    {
      "cell_type": "code",
      "metadata": {
        "id": "Q8ak-LTpF6-Q",
        "outputId": "b5b70b70-0aa4-4dfd-c66c-62b0e6d5791f",
        "colab": {
          "base_uri": "https://localhost:8080/",
          "height": 34
        }
      },
      "source": [
        "from random import randint\n",
        "print(randint(1,10))\n",
        "a = randint(1, 10)"
      ],
      "execution_count": null,
      "outputs": [
        {
          "output_type": "stream",
          "text": [
            "9\n"
          ],
          "name": "stdout"
        }
      ]
    },
    {
      "cell_type": "markdown",
      "metadata": {
        "id": "GcgfvMSi8_3r"
      },
      "source": [
        "## 1.2 Exercises"
      ]
    },
    {
      "cell_type": "markdown",
      "metadata": {
        "id": "qd7D36P9wM_z"
      },
      "source": [
        "**Exercise 1**. Store the string “Bienvenue” in a variable called message. Display its content. \n"
      ]
    },
    {
      "cell_type": "code",
      "metadata": {
        "id": "ZGfzhu5-wDb3",
        "outputId": "304a1ac1-fee4-4495-c205-07a90719a3c8",
        "colab": {
          "base_uri": "https://localhost:8080/",
          "height": 34
        }
      },
      "source": [
        "message = \"Bienvenue\"\n",
        "print(message)"
      ],
      "execution_count": null,
      "outputs": [
        {
          "output_type": "stream",
          "text": [
            "Bienvenue\n"
          ],
          "name": "stdout"
        }
      ]
    },
    {
      "cell_type": "markdown",
      "metadata": {
        "id": "pJEsICY5wTZW"
      },
      "source": [
        "**Exercise 2.** Store your first name in a variable, your last name in another variable and display the following message: “Bienvenue prénom nom!”. Example: “Bienvenue Elle Woods!”\n"
      ]
    },
    {
      "cell_type": "code",
      "metadata": {
        "id": "qwKzL2TpwjQT",
        "outputId": "e6b57b0e-b2ad-4a6a-89e7-278e6dde2cd8",
        "colab": {
          "base_uri": "https://localhost:8080/",
          "height": 34
        }
      },
      "source": [
        "first_name = \"Mathieu\"\n",
        "last_name = \"Lega\"\n",
        "print(\"Bienvenue\", first_name, last_name)"
      ],
      "execution_count": null,
      "outputs": [
        {
          "output_type": "stream",
          "text": [
            "Bienvenue Mathieu Lega\n"
          ],
          "name": "stdout"
        }
      ]
    },
    {
      "cell_type": "markdown",
      "metadata": {
        "id": "383GmlUMw11g"
      },
      "source": [
        "# 2. Loops and conditions"
      ]
    },
    {
      "cell_type": "markdown",
      "metadata": {
        "id": "_zKUPsAP8sph"
      },
      "source": [
        "## 2.1 Theory & Examples"
      ]
    },
    {
      "cell_type": "code",
      "metadata": {
        "id": "Xw5rO5VenQFn",
        "outputId": "98877820-d954-4888-95b3-b5a3c8505dd6",
        "colab": {
          "base_uri": "https://localhost:8080/",
          "height": 129
        }
      },
      "source": [
        "a=1\n",
        "b=2\n",
        "# We cannot change the indentation without defining a behavior\n",
        "# for this new block of code (with a condition or a loop)\n",
        "  c=3\n",
        "  d=4"
      ],
      "execution_count": null,
      "outputs": [
        {
          "output_type": "error",
          "ename": "IndentationError",
          "evalue": "ignored",
          "traceback": [
            "\u001b[0;36m  File \u001b[0;32m\"<ipython-input-44-c7279464b107>\"\u001b[0;36m, line \u001b[0;32m5\u001b[0m\n\u001b[0;31m    c=3\u001b[0m\n\u001b[0m    ^\u001b[0m\n\u001b[0;31mIndentationError\u001b[0m\u001b[0;31m:\u001b[0m unexpected indent\n"
          ]
        }
      ]
    },
    {
      "cell_type": "code",
      "metadata": {
        "id": "qjbWiLxSny1p",
        "outputId": "246ef317-466c-43c8-ee15-ef5a9635a190",
        "colab": {
          "base_uri": "https://localhost:8080/",
          "height": 51
        }
      },
      "source": [
        "condition = True\n",
        "a = 42\n",
        "condition = a == 43\n",
        "\n",
        "if a == 43:\n",
        "  print(\"This is true!\")\n",
        "if condition: \n",
        "  print(\"This is true!\")\n",
        "if condition == True: \n",
        "  print(\"This is really true!\")\n",
        "\n",
        "if condition == False: \n",
        "  print(\"This is false!\")\n",
        "if not condition: \n",
        "  print(\"This is not true!\")"
      ],
      "execution_count": null,
      "outputs": [
        {
          "output_type": "stream",
          "text": [
            "This is false!\n",
            "This is not true!\n"
          ],
          "name": "stdout"
        }
      ]
    },
    {
      "cell_type": "code",
      "metadata": {
        "id": "0nxV4QzLoZ24",
        "outputId": "89f73a8f-3a55-4087-d5ba-677d6bac2ded",
        "colab": {
          "base_uri": "https://localhost:8080/",
          "height": 34
        }
      },
      "source": [
        "house_price = 250000\n",
        "\n",
        "condition = house_price < 200000\n",
        "\n",
        "if condition: \n",
        "  print(\"This is a bargain!\")\n",
        "else: \n",
        "  print(\"This is expensive!\")"
      ],
      "execution_count": null,
      "outputs": [
        {
          "output_type": "stream",
          "text": [
            "This is expensive!\n"
          ],
          "name": "stdout"
        }
      ]
    },
    {
      "cell_type": "code",
      "metadata": {
        "id": "H7XhthQFounp",
        "outputId": "7485fa31-693d-44d0-ca6a-0dd9d8bc3fc7",
        "colab": {
          "base_uri": "https://localhost:8080/",
          "height": 34
        }
      },
      "source": [
        "PER = -4 #price_earning_ratio\n",
        "\n",
        "\n",
        "if PER < 0 : \n",
        "  print(\"cond 1\") # nothing happens\n",
        "elif PER < 10: \n",
        "  print(\"I buy!\")\n",
        "elif PER <= 30: \n",
        "  print(\"Hold!\")\n",
        "else: \n",
        "  print(\"I sell!\")"
      ],
      "execution_count": null,
      "outputs": [
        {
          "output_type": "stream",
          "text": [
            "cond 1\n"
          ],
          "name": "stdout"
        }
      ]
    },
    {
      "cell_type": "code",
      "metadata": {
        "id": "IaifTzpgy98v",
        "outputId": "0bc31c8b-8478-43c5-acf1-f210022bd15f",
        "colab": {
          "base_uri": "https://localhost:8080/",
          "height": 68
        }
      },
      "source": [
        "PER = -4\n",
        "if PER < 0 : \n",
        "  print(\"cond 1\") # nothing happens\n",
        "if PER < 10: \n",
        "  print(\"I buy!\")\n",
        "if PER <= 30: \n",
        "  print(\"Hold!\")"
      ],
      "execution_count": null,
      "outputs": [
        {
          "output_type": "stream",
          "text": [
            "cond 1\n",
            "I buy!\n",
            "Hold!\n"
          ],
          "name": "stdout"
        }
      ]
    },
    {
      "cell_type": "code",
      "metadata": {
        "id": "Db27SWIlrLd6",
        "outputId": "d14de697-4fd2-4f07-84b0-59ab1c787dae",
        "colab": {
          "base_uri": "https://localhost:8080/",
          "height": 102
        }
      },
      "source": [
        "for i in range(0,5): \n",
        "  print(\"I am the iteration n°: \", i)"
      ],
      "execution_count": null,
      "outputs": [
        {
          "output_type": "stream",
          "text": [
            "I am the iteration n°:  0\n",
            "I am the iteration n°:  1\n",
            "I am the iteration n°:  2\n",
            "I am the iteration n°:  3\n",
            "I am the iteration n°:  4\n"
          ],
          "name": "stdout"
        }
      ]
    },
    {
      "cell_type": "code",
      "metadata": {
        "id": "iBv4KdwzrWIH",
        "outputId": "d5f57d02-3879-485d-a3b8-22282888baf0",
        "colab": {
          "base_uri": "https://localhost:8080/",
          "height": 187
        }
      },
      "source": [
        "for year in range(9,50): \n",
        "\n",
        "  if year % 4 == 0: \n",
        "    print(\"Bissextile year\")\n",
        "    continue #continue directly the remaining of the loop\n",
        "  if year == 18: \n",
        "    print(\"Adult\")\n",
        "    break #exit of the loop\n",
        "  print(year)"
      ],
      "execution_count": null,
      "outputs": [
        {
          "output_type": "stream",
          "text": [
            "9\n",
            "10\n",
            "11\n",
            "Bissextile year\n",
            "13\n",
            "14\n",
            "15\n",
            "Bissextile year\n",
            "17\n",
            "Adult\n"
          ],
          "name": "stdout"
        }
      ]
    },
    {
      "cell_type": "code",
      "metadata": {
        "id": "ulu2uSPOthW1",
        "outputId": "512ccae9-0edb-483c-d9bc-8f6d484c2b5d",
        "colab": {
          "base_uri": "https://localhost:8080/",
          "height": 136
        }
      },
      "source": [
        "count = 0\n",
        "while count <= 5: \n",
        "  print(\"I've been in a while loop for \" + str(count) + \" iterations\")\n",
        "  count += 1\n",
        "  if count > 5:\n",
        "    print(\"La boucle est finie\")\n",
        "\n"
      ],
      "execution_count": null,
      "outputs": [
        {
          "output_type": "stream",
          "text": [
            "I've been in a while loop for 0 iterations\n",
            "I've been in a while loop for 1 iterations\n",
            "I've been in a while loop for 2 iterations\n",
            "I've been in a while loop for 3 iterations\n",
            "I've been in a while loop for 4 iterations\n",
            "I've been in a while loop for 5 iterations\n",
            "La boucle est finie\n"
          ],
          "name": "stdout"
        }
      ]
    },
    {
      "cell_type": "code",
      "metadata": {
        "id": "RGy1cCBxsOuJ",
        "outputId": "fc9f6c42-e6c0-44ef-956d-8ea91b9e9ff2",
        "colab": {
          "base_uri": "https://localhost:8080/",
          "height": 170
        }
      },
      "source": [
        "price = 100000\n",
        "\n",
        "\n",
        "while True: \n",
        "  # the condition is always true, this is an infinite loop\n",
        "  # there needs to be at least one \"break\" in the instruction \n",
        "  # block to allow an exit\n",
        "  # otherwise, we need to stop the program manually\n",
        "  price += 20000\n",
        "  print(price)\n",
        "  \n",
        "  if price > 150000 and price < 200000:\n",
        "    print(\"I buy\")\n",
        "    \n",
        "  elif price > 200000: \n",
        "    print(\"I sell\")\n",
        "    break"
      ],
      "execution_count": null,
      "outputs": [
        {
          "output_type": "stream",
          "text": [
            "120000\n",
            "140000\n",
            "160000\n",
            "I buy\n",
            "180000\n",
            "I buy\n",
            "200000\n",
            "220000\n",
            "I sell\n"
          ],
          "name": "stdout"
        }
      ]
    },
    {
      "cell_type": "markdown",
      "metadata": {
        "id": "tHY0tEkP9OKS"
      },
      "source": [
        "## 2.2 Exercises"
      ]
    },
    {
      "cell_type": "markdown",
      "metadata": {
        "id": "IIArI3tCw3IO"
      },
      "source": [
        "**Exercise 3**. Display the multiplication table of 7 (until 70) with a for or while loop."
      ]
    },
    {
      "cell_type": "code",
      "metadata": {
        "id": "ra5dv7bPw8LF"
      },
      "source": [
        "# Method 1 with while\n",
        "tot = 0\n",
        "while tot < 70:\n",
        "  tot += 7\n",
        "  print(tot)\n",
        "\n",
        "var = 0\n",
        "while var < 11:\n",
        "  print(var*7)\n",
        "  var += 1\n",
        "\n",
        "i = 1\n",
        "while True:\n",
        "  print(\"Le résultat de 7 fois\", i, \"est\", 7*i)\n",
        "  i += 1\n",
        "  if 7*i > 150:\n",
        "    break"
      ],
      "execution_count": null,
      "outputs": []
    },
    {
      "cell_type": "code",
      "metadata": {
        "id": "KEfDpy9a970s"
      },
      "source": [
        "# Method 2 with for\n",
        "table = 0\n",
        "for i in range(0, 71):\n",
        "  table += 7\n",
        "  print(table)\n",
        "  if table >= 70:\n",
        "    break\n",
        "\n",
        "for i in range(1, 21):\n",
        "  tot = 7*i\n",
        "  if tot%21 != 0:\n",
        "    print(tot)\n",
        "\n",
        "for i in range(1, 21):\n",
        "  tot = 7*i\n",
        "  if tot%21 == 0:\n",
        "    pass\n",
        "  else: \n",
        "    print(tot)"
      ],
      "execution_count": null,
      "outputs": []
    },
    {
      "cell_type": "markdown",
      "metadata": {
        "id": "oSqYMThHw4sd"
      },
      "source": [
        "**Exercise 4**. Display the conversion table of euros into dollars. Stop at 16384 EUR. Example: \n",
        "* 1 euro(s) = 1.65 dollar(s) \n",
        "* 2 euro(s) = 3.30 dollar(s) \n",
        "* 4 euro(s) = 6.60 dollar(s) \n",
        "* 8 euro(s) = 13.20 dollar(s)\n",
        "* etc. \n"
      ]
    },
    {
      "cell_type": "code",
      "metadata": {
        "id": "xkcZdqbQaLSl"
      },
      "source": [
        "i = 1\n",
        "stop_cond = 16384\n",
        "taux = 1.65\n",
        "while i <= stop_cond:\n",
        "  print(i, \"euros =\", taux*i, \"$\")\n",
        "  i = i*2\n",
        "\n",
        "euro = 1\n",
        "dollar = 1.65\n",
        "while euro < 16384:\n",
        "  euro*=2\n",
        "  dollar*=2\n",
        "  print(euro, \"=\", dollar)\n",
        "\n",
        "max = 15\n",
        "step = 2\n",
        "taux = 1.65\n",
        "for i in range(0, max):\n",
        "  euro = step**i\n",
        "  dollar = taux*euro\n",
        "  print(euro, \"euros = \", dollar, \"dollars\")"
      ],
      "execution_count": null,
      "outputs": []
    },
    {
      "cell_type": "markdown",
      "metadata": {
        "id": "NnJLhkXluHog"
      },
      "source": [
        "# 3. Object Collections"
      ]
    },
    {
      "cell_type": "markdown",
      "metadata": {
        "id": "S29S3GSWdfoh"
      },
      "source": [
        "## 3.1 Lists"
      ]
    },
    {
      "cell_type": "code",
      "metadata": {
        "id": "hF73HluluGze",
        "outputId": "3966c1fd-7c00-4c9a-8e41-66e7f5043a5c",
        "colab": {
          "base_uri": "https://localhost:8080/",
          "height": 34
        }
      },
      "source": [
        "my_list = [1,2,3]\n",
        "print(my_list)"
      ],
      "execution_count": null,
      "outputs": [
        {
          "output_type": "stream",
          "text": [
            "[1, 2, 3]\n"
          ],
          "name": "stdout"
        }
      ]
    },
    {
      "cell_type": "code",
      "metadata": {
        "id": "qozqxdCfeBnh",
        "outputId": "f4034ba2-2e87-4adc-f640-2879dde5e2e9",
        "colab": {
          "base_uri": "https://localhost:8080/",
          "height": 34
        }
      },
      "source": [
        "my_list = my_list + [4,5]\n",
        "print(my_list)"
      ],
      "execution_count": null,
      "outputs": [
        {
          "output_type": "stream",
          "text": [
            "[1, 2, 3, 4, 5]\n"
          ],
          "name": "stdout"
        }
      ]
    },
    {
      "cell_type": "code",
      "metadata": {
        "id": "4TGWiMLzeB4d",
        "outputId": "bf4db24a-d328-4fb4-9ce1-36c6c66f267f",
        "colab": {
          "base_uri": "https://localhost:8080/",
          "height": 34
        }
      },
      "source": [
        "my_list[0] = \"new item\"\n",
        "print(my_list)"
      ],
      "execution_count": null,
      "outputs": [
        {
          "output_type": "stream",
          "text": [
            "['new item', 2, 3, 4, 5]\n"
          ],
          "name": "stdout"
        }
      ]
    },
    {
      "cell_type": "code",
      "metadata": {
        "id": "fo_dxKUNxR85",
        "outputId": "3406bd3a-7ae2-4d96-f81e-89b74fbdf6b0",
        "colab": {
          "base_uri": "https://localhost:8080/",
          "height": 68
        }
      },
      "source": [
        "print(my_list[1:5])\n",
        "print(my_list[-8:])\n",
        "print(my_list[:-1])"
      ],
      "execution_count": null,
      "outputs": [
        {
          "output_type": "stream",
          "text": [
            "[2, 3, 4, 5]\n",
            "['new item', 2, 3, 4, 5]\n",
            "['new item', 2, 3, 4]\n"
          ],
          "name": "stdout"
        }
      ]
    },
    {
      "cell_type": "code",
      "metadata": {
        "id": "PrkUCYvhvusn",
        "outputId": "6d516e13-ac3c-4f71-9bd7-77a9dae42c59",
        "colab": {
          "base_uri": "https://localhost:8080/",
          "height": 34
        }
      },
      "source": [
        "# run this 2 times and observe the result\n",
        "my_list = my_list*2\n",
        "print(my_list)"
      ],
      "execution_count": null,
      "outputs": [
        {
          "output_type": "stream",
          "text": [
            "['new item', 2, 3, 4, 5, 'new item', 2, 3, 4, 5]\n"
          ],
          "name": "stdout"
        }
      ]
    },
    {
      "cell_type": "code",
      "metadata": {
        "id": "z_Kjjk2OuZnN",
        "outputId": "ba719c6d-0e51-4c1a-de56-56304be78a1e",
        "colab": {
          "base_uri": "https://localhost:8080/",
          "height": 34
        }
      },
      "source": [
        "# enables to know the length of a list\n",
        "l = len(my_list)\n",
        "\n",
        "# mathematical operations only work on lists\n",
        "# of which all elements are numerical\n",
        "num_list = [1, 2, True, 4, 5]\n",
        "s = sum(num_list)\n",
        "M = max(num_list)\n",
        "m = min(num_list)\n",
        "\n",
        "a = any([False, False, True]) \n",
        "A = all([False, False, True]) \n",
        "a1 = any([False, False, False]) \n",
        "A2 = all([True, True, True]) \n",
        "\n",
        "print(l, s, M, m, a, A, a1, A2)"
      ],
      "execution_count": null,
      "outputs": [
        {
          "output_type": "stream",
          "text": [
            "10 13 5 1 True False False True\n"
          ],
          "name": "stdout"
        }
      ]
    },
    {
      "cell_type": "code",
      "metadata": {
        "id": "1GyyM_2qY-hI",
        "outputId": "4fdd6af9-9bb4-4f5e-aa4b-58496d98322d",
        "colab": {
          "base_uri": "https://localhost:8080/",
          "height": 34
        }
      },
      "source": [
        "# Get rid of negative values in a list\n",
        "my_list = [-1, 2, 3, -7, 5, -4, 2, 8, -56, 9, 5.3, -4.5]\n",
        "new_list = []\n",
        "for item in my_list: \n",
        "  if item >=0: \n",
        "    output = item\n",
        "    new_list.append(output)\n",
        "print(\"My newly positive list: \", new_list)"
      ],
      "execution_count": null,
      "outputs": [
        {
          "output_type": "stream",
          "text": [
            "My newly positive list:  [2, 3, 5, 2, 8, 9, 5.3]\n"
          ],
          "name": "stdout"
        }
      ]
    },
    {
      "cell_type": "code",
      "metadata": {
        "id": "vqXafadawC6N",
        "outputId": "ce72d71f-f978-4429-f432-1ccc23408e92",
        "colab": {
          "base_uri": "https://localhost:8080/",
          "height": 51
        }
      },
      "source": [
        "# Get rid of negative values in a list\n",
        "my_list = [-1, 2, 3, -7, 5, -4, 2, 8, -56, 9, 5.3, -4.5]\n",
        "positive_list = [item for item in my_list if item >=0]\n",
        "print(\"My *new* newly positive list: \", positive_list)\n",
        "print(my_list[:5])"
      ],
      "execution_count": null,
      "outputs": [
        {
          "output_type": "stream",
          "text": [
            "My *new* newly positive list:  [2, 3, 5, 2, 8, 9, 5.3]\n",
            "[-1, 2, 3, -7, 5]\n"
          ],
          "name": "stdout"
        }
      ]
    },
    {
      "cell_type": "code",
      "metadata": {
        "id": "QZqvxyncSyzj",
        "outputId": "d86c1770-d03a-442e-8a03-14681f327e98",
        "colab": {
          "base_uri": "https://localhost:8080/",
          "height": 34
        }
      },
      "source": [
        "this_list = [item for item in range(0, 15) if item%2==0]\n",
        "print(this_list)"
      ],
      "execution_count": null,
      "outputs": [
        {
          "output_type": "stream",
          "text": [
            "[0, 2, 4, 6, 8, 10, 12, 14]\n"
          ],
          "name": "stdout"
        }
      ]
    },
    {
      "cell_type": "code",
      "metadata": {
        "id": "cCCm9tJvbjv8",
        "outputId": "bc3bc567-6030-4b8c-c51c-15466b4af3b2",
        "colab": {
          "base_uri": "https://localhost:8080/",
          "height": 34
        }
      },
      "source": [
        "table7_list = [i for i in range(0, 71) if i%7 == 0]\n",
        "print(table7_list)"
      ],
      "execution_count": null,
      "outputs": [
        {
          "output_type": "stream",
          "text": [
            "[0, 7, 14, 21, 28, 35, 42, 49, 56, 63, 70]\n"
          ],
          "name": "stdout"
        }
      ]
    },
    {
      "cell_type": "code",
      "metadata": {
        "id": "6XXbw7Qsq_Bx",
        "outputId": "44043d4e-9267-4953-b521-328630532363",
        "colab": {
          "base_uri": "https://localhost:8080/",
          "height": 119
        }
      },
      "source": [
        "this_list = [1, 2, 3, 4, 5, 6]\n",
        "for index, element in enumerate(this_list):\n",
        "  print(index, element)"
      ],
      "execution_count": null,
      "outputs": [
        {
          "output_type": "stream",
          "text": [
            "0 1\n",
            "1 2\n",
            "2 3\n",
            "3 4\n",
            "4 5\n",
            "5 6\n"
          ],
          "name": "stdout"
        }
      ]
    },
    {
      "cell_type": "markdown",
      "metadata": {
        "id": "VrJ5nudcdkZb"
      },
      "source": [
        "## 3.2 Tuples"
      ]
    },
    {
      "cell_type": "code",
      "metadata": {
        "id": "MeIZTN-yavKh",
        "outputId": "0cd094fb-af9c-480f-8547-c0d1446bc2c3",
        "colab": {
          "base_uri": "https://localhost:8080/",
          "height": 34
        }
      },
      "source": [
        "my_tuple = (\"Rue de Bruxelles\", 200000, 200)\n",
        "my_tuple[1]"
      ],
      "execution_count": null,
      "outputs": [
        {
          "output_type": "execute_result",
          "data": {
            "text/plain": [
              "200000"
            ]
          },
          "metadata": {
            "tags": []
          },
          "execution_count": 14
        }
      ]
    },
    {
      "cell_type": "code",
      "metadata": {
        "id": "aCcGiQ71a2eo",
        "outputId": "42b6ffb9-0f64-441a-abce-5aed17128fd0",
        "colab": {
          "base_uri": "https://localhost:8080/",
          "height": 163
        }
      },
      "source": [
        "my_tuple[0] = \"Rempart de la Vierge\""
      ],
      "execution_count": null,
      "outputs": [
        {
          "output_type": "error",
          "ename": "TypeError",
          "evalue": "ignored",
          "traceback": [
            "\u001b[0;31m---------------------------------------------------------------------------\u001b[0m",
            "\u001b[0;31mTypeError\u001b[0m                                 Traceback (most recent call last)",
            "\u001b[0;32m<ipython-input-15-95ed010b5c2d>\u001b[0m in \u001b[0;36m<module>\u001b[0;34m()\u001b[0m\n\u001b[0;32m----> 1\u001b[0;31m \u001b[0mmy_tuple\u001b[0m\u001b[0;34m[\u001b[0m\u001b[0;36m0\u001b[0m\u001b[0;34m]\u001b[0m \u001b[0;34m=\u001b[0m \u001b[0;34m\"Rempart de la Vierge\"\u001b[0m\u001b[0;34m\u001b[0m\u001b[0;34m\u001b[0m\u001b[0m\n\u001b[0m",
            "\u001b[0;31mTypeError\u001b[0m: 'tuple' object does not support item assignment"
          ]
        }
      ]
    },
    {
      "cell_type": "code",
      "metadata": {
        "id": "ccsSzIiZd6TN",
        "outputId": "01b46445-53aa-48f8-bf33-7f4c8d3f7239",
        "colab": {
          "base_uri": "https://localhost:8080/",
          "height": 163
        }
      },
      "source": [
        "my_tuple.append(\"61\")"
      ],
      "execution_count": null,
      "outputs": [
        {
          "output_type": "error",
          "ename": "AttributeError",
          "evalue": "ignored",
          "traceback": [
            "\u001b[0;31m---------------------------------------------------------------------------\u001b[0m",
            "\u001b[0;31mAttributeError\u001b[0m                            Traceback (most recent call last)",
            "\u001b[0;32m<ipython-input-16-7d0387a82780>\u001b[0m in \u001b[0;36m<module>\u001b[0;34m()\u001b[0m\n\u001b[0;32m----> 1\u001b[0;31m \u001b[0mmy_tuple\u001b[0m\u001b[0;34m.\u001b[0m\u001b[0mappend\u001b[0m\u001b[0;34m(\u001b[0m\u001b[0;34m\"61\"\u001b[0m\u001b[0;34m)\u001b[0m\u001b[0;34m\u001b[0m\u001b[0;34m\u001b[0m\u001b[0m\n\u001b[0m",
            "\u001b[0;31mAttributeError\u001b[0m: 'tuple' object has no attribute 'append'"
          ]
        }
      ]
    },
    {
      "cell_type": "code",
      "metadata": {
        "id": "Ks4YpiXseLz_",
        "outputId": "db824773-b7b9-4dfb-d521-78849a5e6b57",
        "colab": {
          "base_uri": "https://localhost:8080/",
          "height": 68
        }
      },
      "source": [
        "tuple1 = (1, 2, 3, 4, 5)\n",
        "print(tuple1)\n",
        "my_list = list(tuple1)\n",
        "my_list[0] = \"new item\"\n",
        "print(my_list)\n",
        "my_tuple = tuple(my_list)\n",
        "print(my_tuple)"
      ],
      "execution_count": null,
      "outputs": [
        {
          "output_type": "stream",
          "text": [
            "(1, 2, 3, 4, 5)\n",
            "['new item', 2, 3, 4, 5]\n",
            "('new item', 2, 3, 4, 5)\n"
          ],
          "name": "stdout"
        }
      ]
    },
    {
      "cell_type": "code",
      "metadata": {
        "id": "H9xyrtjJVbmQ",
        "outputId": "0030ad2b-4d04-42e1-974a-0f9e3ef9c6cf",
        "colab": {
          "base_uri": "https://localhost:8080/",
          "height": 34
        }
      },
      "source": [
        "my_list = list()\n",
        "my_tuple = tuple()\n",
        "print(my_list, my_tuple)"
      ],
      "execution_count": null,
      "outputs": [
        {
          "output_type": "stream",
          "text": [
            "[] ()\n"
          ],
          "name": "stdout"
        }
      ]
    },
    {
      "cell_type": "code",
      "metadata": {
        "id": "6Qya0v3hrdH8",
        "outputId": "bed3e4d1-b1d5-46e9-d531-c98d050c6ed5",
        "colab": {
          "base_uri": "https://localhost:8080/",
          "height": 136
        }
      },
      "source": [
        "this_tuple = (1, 2, 3, 4, 5, 6)\n",
        "for index, element in enumerate(this_tuple):\n",
        "  print(index, element)\n",
        "\n",
        "print(len(this_tuple))"
      ],
      "execution_count": null,
      "outputs": [
        {
          "output_type": "stream",
          "text": [
            "0 1\n",
            "1 2\n",
            "2 3\n",
            "3 4\n",
            "4 5\n",
            "5 6\n",
            "6\n"
          ],
          "name": "stdout"
        }
      ]
    },
    {
      "cell_type": "markdown",
      "metadata": {
        "id": "lVY1ZvDudreJ"
      },
      "source": [
        "## 3.3 Dictionaries"
      ]
    },
    {
      "cell_type": "code",
      "metadata": {
        "id": "SkOSC2RWZy8L",
        "outputId": "eb831cd8-3f26-4271-e71c-e33fa02014f7",
        "colab": {
          "base_uri": "https://localhost:8080/",
          "height": 51
        }
      },
      "source": [
        "my_dict = {\"Adresse\":\"Rue de Bruxelles 61\", \"prix\":200000, \"surface\":200 }\n",
        "print(my_dict)\n",
        "#print(my_dict[0]) #= KO\n",
        "print(my_dict['Adresse']) # print(my_dict[0]) = KO"
      ],
      "execution_count": null,
      "outputs": [
        {
          "output_type": "stream",
          "text": [
            "{'Adresse': 'Rue de Bruxelles 61', 'prix': 200000, 'surface': 200}\n",
            "Rue de Bruxelles 61\n"
          ],
          "name": "stdout"
        }
      ]
    },
    {
      "cell_type": "code",
      "metadata": {
        "id": "khTPcdeMaB-j",
        "outputId": "4941f4c3-c665-4fb8-989b-f67b70c0b9c4",
        "colab": {
          "base_uri": "https://localhost:8080/",
          "height": 34
        }
      },
      "source": [
        "my_dict[\"Nombre de chambres\"]= [4, 5, 6]\n",
        "print(my_dict)"
      ],
      "execution_count": null,
      "outputs": [
        {
          "output_type": "stream",
          "text": [
            "{'Adresse': 'Rue de Bruxelles 61', 'prix': 200000, 'surface': 200, 'Nombre de chambres': [4, 5, 6]}\n"
          ],
          "name": "stdout"
        }
      ]
    },
    {
      "cell_type": "code",
      "metadata": {
        "id": "_npYg69RbOIe",
        "outputId": "91c2aef9-6796-4cf1-8d99-0cfb59e006f8",
        "colab": {
          "base_uri": "https://localhost:8080/",
          "height": 34
        }
      },
      "source": [
        "my_dict[\"Nombre de chambres\"]= 2\n",
        "print(my_dict)"
      ],
      "execution_count": null,
      "outputs": [
        {
          "output_type": "stream",
          "text": [
            "{'Adresse': 'Rue de Bruxelles 61', 'prix': 200000, 'surface': 200, 'Nombre de chambres': 2}\n"
          ],
          "name": "stdout"
        }
      ]
    },
    {
      "cell_type": "code",
      "metadata": {
        "id": "CUymlwq4r1ya",
        "outputId": "3390af50-62ca-4fc6-db18-316a1a51d406",
        "colab": {
          "base_uri": "https://localhost:8080/",
          "height": 85
        }
      },
      "source": [
        "for index, element in enumerate(my_dict):\n",
        "  print(index, element)"
      ],
      "execution_count": null,
      "outputs": [
        {
          "output_type": "stream",
          "text": [
            "0 Adresse\n",
            "1 prix\n",
            "2 surface\n",
            "3 Nombre de chambres\n"
          ],
          "name": "stdout"
        }
      ]
    },
    {
      "cell_type": "code",
      "metadata": {
        "id": "1F6Dl86SsDLL",
        "outputId": "3ccf3d84-3002-4632-e303-5007c15d7ce6",
        "colab": {
          "base_uri": "https://localhost:8080/",
          "height": 85
        }
      },
      "source": [
        "for key, value in my_dict.items():\n",
        "  print(key, \":\", value)"
      ],
      "execution_count": null,
      "outputs": [
        {
          "output_type": "stream",
          "text": [
            "Adresse : Rue de Bruxelles 61\n",
            "prix : 200000\n",
            "surface : 200\n",
            "Nombre de chambres : 2\n"
          ],
          "name": "stdout"
        }
      ]
    },
    {
      "cell_type": "markdown",
      "metadata": {
        "id": "vkmntKShe_zj"
      },
      "source": [
        "## 3.4 Summary"
      ]
    },
    {
      "cell_type": "code",
      "metadata": {
        "id": "3-aOmalLwrZj"
      },
      "source": [
        "my_list = ['a', 'b', 'c']\n",
        "my_tuple = (1, 2, 3)\n",
        "my_dict = {'a': 1, 'b': 2, 'c': 3}\n",
        "\n",
        "my_list.append('d')\n",
        "print(my_list[3], my_tuple[0], my_dict['c'])"
      ],
      "execution_count": null,
      "outputs": []
    },
    {
      "cell_type": "markdown",
      "metadata": {
        "id": "Wwc7uuYCzg9m"
      },
      "source": [
        "# 4. Functions"
      ]
    },
    {
      "cell_type": "markdown",
      "metadata": {
        "id": "SzfQ8Wk885BX"
      },
      "source": [
        "## 4.1 Theory & Examples"
      ]
    },
    {
      "cell_type": "code",
      "metadata": {
        "id": "oQfH2v1pxMtC",
        "outputId": "6fc88bde-8169-4404-d940-7a4c66c0a075",
        "colab": {
          "base_uri": "https://localhost:8080/",
          "height": 68
        }
      },
      "source": [
        "def my_function(x1, x2): \n",
        "  out = x1*x2\n",
        "\n",
        "  return out\n",
        "\n",
        "a = 6\n",
        "b = 7\n",
        "output = my_function(a, b)\n",
        "print(my_function(4,5) + my_function(7, 8))\n",
        "print(my_function(7,3))\n",
        "\n",
        "print(output)"
      ],
      "execution_count": null,
      "outputs": [
        {
          "output_type": "stream",
          "text": [
            "76\n",
            "21\n",
            "42\n"
          ],
          "name": "stdout"
        }
      ]
    },
    {
      "cell_type": "code",
      "metadata": {
        "id": "9gkTC6z2fzwM",
        "outputId": "d81ff79c-e5f9-4ef3-82d2-91275b53fb8e",
        "colab": {
          "base_uri": "https://localhost:8080/",
          "height": 51
        }
      },
      "source": [
        "def fct_with_default_val(nb_articles, price_in_euros, currency=\"Euro\"):\n",
        "  total_price = nb_articles*price_in_euros\n",
        "  if currency == \"Euro\":\n",
        "    return total_price\n",
        "\n",
        "  elif currency == \"Dollar\":\n",
        "    return total_price*1.65\n",
        "\n",
        "print(fct_with_default_val(nb_articles = 5, price_in_euros = 17.50))\n",
        "print(fct_with_default_val(5, 17.50, \"Dollar\"))"
      ],
      "execution_count": null,
      "outputs": [
        {
          "output_type": "stream",
          "text": [
            "87.5\n",
            "144.375\n"
          ],
          "name": "stdout"
        }
      ]
    },
    {
      "cell_type": "markdown",
      "metadata": {
        "id": "gRkwF3X19S7G"
      },
      "source": [
        "## 4.2 Exercises"
      ]
    },
    {
      "cell_type": "markdown",
      "metadata": {
        "id": "izLfIk2ezigE"
      },
      "source": [
        "**Exercise 5**. Store any number in a variable called seconds. Convert this number of seconds in number of days, hours, minutes and seconds. Example: if you store the number 4561 in the variable seconds, this will give you: 0 day, 1 hour, 16 minutes and 1 second\n"
      ]
    },
    {
      "cell_type": "code",
      "metadata": {
        "id": "Z4eKufWni1Bz",
        "outputId": "d63404b9-bd35-4f96-a2a6-b9f844ba563e",
        "colab": {
          "base_uri": "https://localhost:8080/",
          "height": 34
        }
      },
      "source": [
        "def time(sec):\n",
        "  sec = sec\n",
        "  min = 0\n",
        "  hour = 0\n",
        "  day = 0\n",
        "  while sec > 60:\n",
        "    sec -= 60\n",
        "    min += 1\n",
        "    while min > 60:\n",
        "      min -= 60\n",
        "      hour += 1\n",
        "      while hour > 24:\n",
        "        hour -= 24\n",
        "        day += 1\n",
        "  return (str(day) + \" jours\", str(hour) + \" heures\", str(min) + \" minutes\", str(sec) + \" secondes\")\n",
        "\n",
        "print(time(4561))"
      ],
      "execution_count": null,
      "outputs": [
        {
          "output_type": "stream",
          "text": [
            "('0 jours', '1 heures', '16 minutes', '1 secondes')\n"
          ],
          "name": "stdout"
        }
      ]
    },
    {
      "cell_type": "code",
      "metadata": {
        "id": "3EnvOv9RjtWV",
        "outputId": "cd7a41ea-631c-4198-fd05-56bcb95e719c",
        "colab": {
          "base_uri": "https://localhost:8080/",
          "height": 34
        }
      },
      "source": [
        "sec_per_year = int(86400*365.25)\n",
        "def convert(x):\n",
        "  year = x//sec_per_year\n",
        "  day = x%sec_per_year//86400\n",
        "  hour = x%sec_per_year%86400//3600\n",
        "  min = x%sec_per_year%86400%3600//60\n",
        "  sec = x%60\n",
        "  return year, day, hour, min, sec\n",
        "\n",
        "s = 4561\n",
        "print(convert(s))"
      ],
      "execution_count": null,
      "outputs": [
        {
          "output_type": "stream",
          "text": [
            "(0, 0, 1, 16, 1)\n"
          ],
          "name": "stdout"
        }
      ]
    },
    {
      "cell_type": "markdown",
      "metadata": {
        "id": "DBEmNKXjznIe"
      },
      "source": [
        "**Exercise 6.** Store any year number in a variable called year. Create a function determining if the year you entered is a bissextile year. Note, a year is bissextile if it can be divided by 4, but not by 100. Or if it can be divided by 400. Example: 2000 and 1996 are bissextile years; while 1900 and 1997 are not. \n"
      ]
    },
    {
      "cell_type": "code",
      "metadata": {
        "id": "uK8ITy65i3hp",
        "outputId": "f3ce61c2-376b-4bed-bd4f-f162cbc27bd0",
        "colab": {
          "base_uri": "https://localhost:8080/",
          "height": 34
        }
      },
      "source": [
        "def is_bis(year):\n",
        "  if any([all([year%4==0, year%100!=0]), year%400==0]):\n",
        "    return True\n",
        "\n",
        "  else:\n",
        "    return False\n",
        "\n",
        "print(is_bis(2020))"
      ],
      "execution_count": null,
      "outputs": [
        {
          "output_type": "stream",
          "text": [
            "True\n"
          ],
          "name": "stdout"
        }
      ]
    },
    {
      "cell_type": "code",
      "metadata": {
        "id": "m2YAliQU6k-M",
        "outputId": "73feebaf-e800-4c3d-a6b8-302ea36d0dca",
        "colab": {
          "base_uri": "https://localhost:8080/",
          "height": 34
        }
      },
      "source": [
        "def fct(year):\n",
        "  if (year%4 ==0 and year%100 != 0) or year%400 == 0:\n",
        "    b = \"Bissextile\"\n",
        "  else:\n",
        "    b = \"Not bissextile\"\n",
        "\n",
        "  return(str(year) + \" est une année \" + b)\n",
        "\n",
        "print(fct(2020))"
      ],
      "execution_count": null,
      "outputs": [
        {
          "output_type": "stream",
          "text": [
            "2020 est une année Bissextile\n"
          ],
          "name": "stdout"
        }
      ]
    },
    {
      "cell_type": "markdown",
      "metadata": {
        "id": "MX1Rlh2ni53o"
      },
      "source": [
        "### Solutions"
      ]
    },
    {
      "cell_type": "code",
      "metadata": {
        "id": "p3x9fD_dzqjU"
      },
      "source": [
        "def sec_convert(num_sec): \n",
        "  print(num_sec//(60*60*24), \"Day(s)\") # 60*60*24 = 86400\n",
        "  print(num_sec%86400//(60*60), \"Hour(s)\")\n",
        "  print(num_sec%86488%3600//(60), \"Minute(s)\")\n",
        "  print(num_sec%86488%3600%60, \"Second(s)\")\n",
        "\n",
        "seconds = 4561\n",
        "sec_convert(seconds)"
      ],
      "execution_count": null,
      "outputs": []
    },
    {
      "cell_type": "code",
      "metadata": {
        "id": "wmxfarvj1aUn"
      },
      "source": [
        "def bissextile_year(arg): \n",
        "  if (arg%400 == 0) or (arg%100 != 0 and arg%4 == 0): \n",
        "    print(\"This is a bissextile year\")\n",
        "  else: \n",
        "    print(\"This is not a bissextile year\")\n",
        "\n",
        "year = 2000\n",
        "bissextile_year(year)"
      ],
      "execution_count": null,
      "outputs": []
    },
    {
      "cell_type": "markdown",
      "metadata": {
        "id": "9jyH5z3VjLbq"
      },
      "source": [
        "# 5. Modules"
      ]
    },
    {
      "cell_type": "markdown",
      "metadata": {
        "id": "zO1m_g15jymk"
      },
      "source": [
        "## 5.1 Numpy"
      ]
    },
    {
      "cell_type": "markdown",
      "metadata": {
        "id": "GrbNS6CO1d7e"
      },
      "source": [
        "### Basics"
      ]
    },
    {
      "cell_type": "code",
      "metadata": {
        "id": "KW9I1_xuj18V"
      },
      "source": [
        "import numpy as np"
      ],
      "execution_count": null,
      "outputs": []
    },
    {
      "cell_type": "code",
      "metadata": {
        "id": "cUqEjTihulLR",
        "outputId": "fbd69b3b-5a48-4913-d500-fbcb920d99f7",
        "colab": {
          "base_uri": "https://localhost:8080/",
          "height": 67
        }
      },
      "source": [
        "a = np.array([1, 2, 3])\n",
        "print(a.shape)\n",
        "print(a)\n",
        "print(a[0], a[1], a[2])"
      ],
      "execution_count": null,
      "outputs": [
        {
          "output_type": "stream",
          "text": [
            "(3,)\n",
            "[1 2 3]\n",
            "1 2 3\n"
          ],
          "name": "stdout"
        }
      ]
    },
    {
      "cell_type": "code",
      "metadata": {
        "id": "sKzA9iGWz_SF",
        "outputId": "a274b61c-f44b-468d-9709-f36e6d2c92df",
        "colab": {
          "base_uri": "https://localhost:8080/",
          "height": 178
        }
      },
      "source": [
        "a[0] = \"new item\"\n",
        "print(a)"
      ],
      "execution_count": null,
      "outputs": [
        {
          "output_type": "error",
          "ename": "ValueError",
          "evalue": "ignored",
          "traceback": [
            "\u001b[0;31m---------------------------------------------------------------------------\u001b[0m",
            "\u001b[0;31mValueError\u001b[0m                                Traceback (most recent call last)",
            "\u001b[0;32m<ipython-input-4-e648e5f05ef1>\u001b[0m in \u001b[0;36m<module>\u001b[0;34m()\u001b[0m\n\u001b[0;32m----> 1\u001b[0;31m \u001b[0ma\u001b[0m\u001b[0;34m[\u001b[0m\u001b[0;36m0\u001b[0m\u001b[0;34m]\u001b[0m \u001b[0;34m=\u001b[0m \u001b[0;34m\"new item\"\u001b[0m\u001b[0;34m\u001b[0m\u001b[0;34m\u001b[0m\u001b[0m\n\u001b[0m\u001b[1;32m      2\u001b[0m \u001b[0mprint\u001b[0m\u001b[0;34m(\u001b[0m\u001b[0ma\u001b[0m\u001b[0;34m)\u001b[0m\u001b[0;34m\u001b[0m\u001b[0;34m\u001b[0m\u001b[0m\n",
            "\u001b[0;31mValueError\u001b[0m: invalid literal for int() with base 10: 'new item'"
          ]
        }
      ]
    },
    {
      "cell_type": "code",
      "metadata": {
        "id": "lo6GRSeP0GjT",
        "outputId": "d250da28-cf0e-4cf9-bb22-3904d47abcae",
        "colab": {
          "base_uri": "https://localhost:8080/",
          "height": 34
        }
      },
      "source": [
        "a[0] = 4\n",
        "print(a)"
      ],
      "execution_count": null,
      "outputs": [
        {
          "output_type": "stream",
          "text": [
            "[4 2 3]\n"
          ],
          "name": "stdout"
        }
      ]
    },
    {
      "cell_type": "code",
      "metadata": {
        "id": "t9cZqitey_4k",
        "outputId": "3790f37a-5c0e-4d11-a35a-2b9c0ff901f1",
        "colab": {
          "base_uri": "https://localhost:8080/",
          "height": 84
        }
      },
      "source": [
        "b = np.array([[1,2,3],[4,5,6]])\n",
        "print(b.shape)\n",
        "print(b)\n",
        "print(b[0, 0], b[0, 1], b[1, 0]) "
      ],
      "execution_count": null,
      "outputs": [
        {
          "output_type": "stream",
          "text": [
            "(2, 3)\n",
            "[[1 2 3]\n",
            " [4 5 6]]\n",
            "1 2 4\n"
          ],
          "name": "stdout"
        }
      ]
    },
    {
      "cell_type": "code",
      "metadata": {
        "id": "qbYY4i2bIdmq",
        "outputId": "75d03d38-07ab-465f-ed85-462351ea204c",
        "colab": {
          "base_uri": "https://localhost:8080/",
          "height": 67
        }
      },
      "source": [
        "c = np.array([[1],[4]])\n",
        "print(c.shape)\n",
        "print(c)"
      ],
      "execution_count": null,
      "outputs": [
        {
          "output_type": "stream",
          "text": [
            "(2, 1)\n",
            "[[1]\n",
            " [4]]\n"
          ],
          "name": "stdout"
        }
      ]
    },
    {
      "cell_type": "code",
      "metadata": {
        "id": "CY3B4pLl0NmE",
        "outputId": "f7551a2b-210e-42c0-f917-8a9edf84b058",
        "colab": {
          "base_uri": "https://localhost:8080/",
          "height": 50
        }
      },
      "source": [
        "b[0, 0] = 7\n",
        "print(b)"
      ],
      "execution_count": null,
      "outputs": [
        {
          "output_type": "stream",
          "text": [
            "[[7 2 3]\n",
            " [4 5 6]]\n"
          ],
          "name": "stdout"
        }
      ]
    },
    {
      "cell_type": "markdown",
      "metadata": {
        "id": "kpA3xyEZ1jcT"
      },
      "source": [
        "### Some functions"
      ]
    },
    {
      "cell_type": "code",
      "metadata": {
        "id": "TfsmoDiW1qrq",
        "outputId": "37671158-775b-44cf-dd13-3c6bd9ae3970",
        "colab": {
          "base_uri": "https://localhost:8080/",
          "height": 353
        }
      },
      "source": [
        "zero_matrix = np.zeros((2,2))\n",
        "one_matrix = np.ones((3,2))\n",
        "nb_matrix = np.full((2,2), 10)\n",
        "id_matrix = np.eye(5) \n",
        "random_matrix = np.random.random((2,2))\n",
        "range_matrix = np.arange(0, 4)\n",
        "\n",
        "print(zero_matrix, \"\\n\")\n",
        "print(one_matrix, \"\\n\")\n",
        "print(nb_matrix, \"\\n\")\n",
        "print(id_matrix, \"\\n\")\n",
        "print(random_matrix, \"\\n\")\n",
        "print(range_matrix)"
      ],
      "execution_count": null,
      "outputs": [
        {
          "output_type": "stream",
          "text": [
            "[[0. 0.]\n",
            " [0. 0.]] \n",
            "\n",
            "[[1. 1.]\n",
            " [1. 1.]\n",
            " [1. 1.]] \n",
            "\n",
            "[[10 10]\n",
            " [10 10]] \n",
            "\n",
            "[[1. 0. 0. 0. 0.]\n",
            " [0. 1. 0. 0. 0.]\n",
            " [0. 0. 1. 0. 0.]\n",
            " [0. 0. 0. 1. 0.]\n",
            " [0. 0. 0. 0. 1.]] \n",
            "\n",
            "[[0.88254792 0.59637945]\n",
            " [0.87673894 0.72415753]] \n",
            "\n",
            "[0 1 2 3]\n"
          ],
          "name": "stdout"
        }
      ]
    },
    {
      "cell_type": "markdown",
      "metadata": {
        "id": "wbE41Bc4kxDU"
      },
      "source": [
        "### Slicing"
      ]
    },
    {
      "cell_type": "code",
      "metadata": {
        "id": "AH2mFKTkk0Du",
        "outputId": "afd24aa2-39c1-43be-a4f8-b2d84d647ce3",
        "colab": {
          "base_uri": "https://localhost:8080/",
          "height": 84
        }
      },
      "source": [
        "big_array = np.array([[1,2,3,4], [5,6,7,8], [9,10,11,12], [13,14,15,16]])\n",
        "print(big_array)"
      ],
      "execution_count": null,
      "outputs": [
        {
          "output_type": "stream",
          "text": [
            "[[ 1  2  3  4]\n",
            " [ 5  6  7  8]\n",
            " [ 9 10 11 12]\n",
            " [13 14 15 16]]\n"
          ],
          "name": "stdout"
        }
      ]
    },
    {
      "cell_type": "code",
      "metadata": {
        "id": "RxmkyhyGn6oa",
        "outputId": "ce37fd5d-2f35-45fc-f4c0-ca800c135316",
        "colab": {
          "base_uri": "https://localhost:8080/",
          "height": 286
        }
      },
      "source": [
        "sub_array = big_array[:2, 1:3] # with indexes\n",
        "print(sub_array, sub_array.shape, \"\\n\")\n",
        "\n",
        "sub_array2 = big_array[0, 1:3]\n",
        "print(sub_array2, sub_array2.shape)\n",
        "print(sub_array2[0], \"\\n\") # 1 index\n",
        "\n",
        "sub_array3 = big_array[0:1, 1:3]\n",
        "print(sub_array3, sub_array3.shape)\n",
        "print(sub_array3[0, 0], \"\\n\") # 2 indexes\n",
        "\n",
        "sub_array[0, 0] = 1000 # Change is propagated to big_array!!!\n",
        "print(sub_array, \"\\n\")\n",
        "print(big_array)"
      ],
      "execution_count": null,
      "outputs": [
        {
          "output_type": "stream",
          "text": [
            "[[2 3]\n",
            " [6 7]] (2, 2) \n",
            "\n",
            "[2 3] (2,)\n",
            "2 \n",
            "\n",
            "[[2 3]] (1, 2)\n",
            "2 \n",
            "\n",
            "[[1000    3]\n",
            " [   6    7]] \n",
            "\n",
            "[[   1 1000    3    4]\n",
            " [   5    6    7    8]\n",
            " [   9   10   11   12]\n",
            " [  13   14   15   16]]\n"
          ],
          "name": "stdout"
        }
      ]
    },
    {
      "cell_type": "code",
      "metadata": {
        "id": "y5Bdc64hvR3S",
        "outputId": "ef63ceca-ba04-460d-8a18-bb329efbcc6c",
        "colab": {
          "base_uri": "https://localhost:8080/",
          "height": 34
        }
      },
      "source": [
        "print(big_array[np.array([0]), np.array([1,2])]) # with arrays"
      ],
      "execution_count": null,
      "outputs": [
        {
          "output_type": "stream",
          "text": [
            "[1000    3]\n"
          ],
          "name": "stdout"
        }
      ]
    },
    {
      "cell_type": "code",
      "metadata": {
        "id": "7hVEBbix0nfW",
        "outputId": "96f12d88-e6fc-4230-e44b-b10ec258a736",
        "colab": {
          "base_uri": "https://localhost:8080/",
          "height": 118
        }
      },
      "source": [
        "print(big_array[(big_array>4)], \"\\n\")\n",
        "condition = big_array>4\n",
        "print(condition)"
      ],
      "execution_count": null,
      "outputs": [
        {
          "output_type": "stream",
          "text": [
            "[1000    5    6    7    8    9   10   11   12   13   14   15   16] \n",
            "\n",
            "[[False  True False False]\n",
            " [ True  True  True  True]\n",
            " [ True  True  True  True]\n",
            " [ True  True  True  True]]\n"
          ],
          "name": "stdout"
        }
      ]
    },
    {
      "cell_type": "markdown",
      "metadata": {
        "id": "oJrWcB5RaSi3"
      },
      "source": [
        "### Operations"
      ]
    },
    {
      "cell_type": "code",
      "metadata": {
        "id": "e_uWB0hHaWqk",
        "outputId": "2932423c-da1d-4fdb-f23a-0cf116fcec4f",
        "colab": {
          "base_uri": "https://localhost:8080/",
          "height": 101
        }
      },
      "source": [
        "array1 = np.array([[1,2],[3,4]])\n",
        "array2 = np.array([[5,6],[7,8]])\n",
        "print(array1, \"\\n\")\n",
        "print(array2)"
      ],
      "execution_count": null,
      "outputs": [
        {
          "output_type": "stream",
          "text": [
            "[[1 2]\n",
            " [3 4]] \n",
            "\n",
            "[[5 6]\n",
            " [7 8]]\n"
          ],
          "name": "stdout"
        }
      ]
    },
    {
      "cell_type": "code",
      "metadata": {
        "id": "I23pofX_ag6B",
        "outputId": "f908314c-1466-4486-f93f-2b37e7472f1e",
        "colab": {
          "base_uri": "https://localhost:8080/",
          "height": 218
        }
      },
      "source": [
        "print(array1+array2, \"\\n\")\n",
        "print(array1-array2, \"\\n\")\n",
        "print(array1*array2, \"\\n\")\n",
        "print(array1/array2, \"\\n\")"
      ],
      "execution_count": null,
      "outputs": [
        {
          "output_type": "stream",
          "text": [
            "[[ 6  8]\n",
            " [10 12]] \n",
            "\n",
            "[[-4 -4]\n",
            " [-4 -4]] \n",
            "\n",
            "[[ 5 12]\n",
            " [21 32]] \n",
            "\n",
            "[[0.2        0.33333333]\n",
            " [0.42857143 0.5       ]] \n",
            "\n"
          ],
          "name": "stdout"
        }
      ]
    },
    {
      "cell_type": "markdown",
      "metadata": {
        "id": "AONocVGaj3fR"
      },
      "source": [
        "## 5.2 Matplotlib"
      ]
    },
    {
      "cell_type": "code",
      "metadata": {
        "id": "sKHeEQWmkAL7"
      },
      "source": [
        "import matplotlib.pyplot as plt"
      ],
      "execution_count": null,
      "outputs": []
    },
    {
      "cell_type": "markdown",
      "metadata": {
        "id": "IB0RHG6CnSQd"
      },
      "source": [
        "### Line chart"
      ]
    },
    {
      "cell_type": "code",
      "metadata": {
        "id": "Qu9oBkqAd5_j",
        "outputId": "3cc6445a-5d38-44ab-b258-24e2394a0523",
        "colab": {
          "base_uri": "https://localhost:8080/",
          "height": 265
        }
      },
      "source": [
        "x = np.array([0, 3, 7, 9, 0])\n",
        "y = np.array([0, 1, 4, 8, 0])\n",
        "\n",
        "plt.plot(x, y)\n",
        "\n",
        "plt.show()"
      ],
      "execution_count": null,
      "outputs": [
        {
          "output_type": "display_data",
          "data": {
            "image/png": "[encoded data removed]",
            "text/plain": [
              "<Figure size 432x288 with 1 Axes>"
            ]
          },
          "metadata": {
            "tags": [],
            "needs_background": "light"
          }
        }
      ]
    },
    {
      "cell_type": "code",
      "metadata": {
        "id": "UYJWrfHAetlw",
        "outputId": "9f358e2a-f43b-43ab-cadc-2f0d4f7a3599",
        "colab": {
          "base_uri": "https://localhost:8080/",
          "height": 265
        }
      },
      "source": [
        "x = np.linspace(0, 10, 50) # 50 values between 0 and 10\n",
        "y = np.sin(x)\n",
        "\n",
        "plt.plot(x, y)\n",
        "\n",
        "plt.show()"
      ],
      "execution_count": null,
      "outputs": [
        {
          "output_type": "display_data",
          "data": {
            "image/png": "[encoded data removed]",
            "text/plain": [
              "<Figure size 432x288 with 1 Axes>"
            ]
          },
          "metadata": {
            "tags": [],
            "needs_background": "light"
          }
        }
      ]
    },
    {
      "cell_type": "code",
      "metadata": {
        "id": "i4baKOkEfms-",
        "outputId": "008eda32-001a-4ad1-d01f-82a5c3f773c9",
        "colab": {
          "base_uri": "https://localhost:8080/",
          "height": 281
        }
      },
      "source": [
        "x = np.linspace(0, 10, 50)\n",
        "y = np.sin(x)\n",
        "\n",
        "plt.plot(x, y)\n",
        "\n",
        "plt.xlim(0, 2*np.pi) # Change limits of x axis\n",
        "plt.ylim(-1.5, 1.5) # Change limits of y axis\n",
        "\n",
        "plt.title(\"Sinus function\") # Add title\n",
        "\n",
        "plt.show()"
      ],
      "execution_count": null,
      "outputs": [
        {
          "output_type": "display_data",
          "data": {
            "image/png": "[encoded data removed]",
            "text/plain": [
              "<Figure size 432x288 with 1 Axes>"
            ]
          },
          "metadata": {
            "tags": [],
            "needs_background": "light"
          }
        }
      ]
    },
    {
      "cell_type": "code",
      "metadata": {
        "id": "IXz28r8JgCul",
        "outputId": "87f256b4-237b-4519-ce54-314f4978ad90",
        "colab": {
          "base_uri": "https://localhost:8080/",
          "height": 281
        }
      },
      "source": [
        "x = np.linspace(0, 10, 50)\n",
        "y = np.sin(x)\n",
        "z = np.cos(x)\n",
        "\n",
        "plt.plot(x, y, label = \"sin(x)\")\n",
        "plt.plot(x, z, label = \"cos(x)\")\n",
        "plt.legend() # Add legend\n",
        "\n",
        "plt.xlim(0, 6.5) # Change limits of x axis\n",
        "plt.ylim(-1.5, 1.5) # Change limits of y axis\n",
        "\n",
        "plt.title(\"Sinus and cosinus functions\") # Add title\n",
        "\n",
        "plt.show()"
      ],
      "execution_count": null,
      "outputs": [
        {
          "output_type": "display_data",
          "data": {
            "image/png": "[encoded data removed]",
            "text/plain": [
              "<Figure size 432x288 with 1 Axes>"
            ]
          },
          "metadata": {
            "tags": [],
            "needs_background": "light"
          }
        }
      ]
    },
    {
      "cell_type": "code",
      "metadata": {
        "id": "RlYRwwqpi1o9",
        "outputId": "1e6eadda-560b-4239-f29a-72f2982ec1ec",
        "colab": {
          "base_uri": "https://localhost:8080/",
          "height": 295
        }
      },
      "source": [
        "x = np.linspace(0, 10, 50)\n",
        "y = np.sin(x)\n",
        "z = np.cos(x)\n",
        "\n",
        "plt.plot(x, y, label = \"sin(x)\")\n",
        "plt.plot(x, z, label = \"cos(x)\")\n",
        "plt.legend() # Add legend\n",
        "\n",
        "plt.xlim(0, 6.5) # Change limits of x axis\n",
        "plt.ylim(-1.5, 1.5) # Change limits of y axis\n",
        "\n",
        "plt.title(\"Sinus and cosinus functions\") # Add title\n",
        "\n",
        "plt.xlabel(\"abscissa\") # Add x label\n",
        "plt.ylabel(\"ordinate\") # Add y label\n",
        "\n",
        "plt.show()"
      ],
      "execution_count": null,
      "outputs": [
        {
          "output_type": "display_data",
          "data": {
            "image/png": "[encoded data removed]",
            "text/plain": [
              "<Figure size 432x288 with 1 Axes>"
            ]
          },
          "metadata": {
            "tags": [],
            "needs_background": "light"
          }
        }
      ]
    },
    {
      "cell_type": "code",
      "metadata": {
        "id": "PNKA_iugjkRZ",
        "outputId": "b0658cba-217f-427a-bbf7-4d3fdfd5352a",
        "colab": {
          "base_uri": "https://localhost:8080/",
          "height": 295
        }
      },
      "source": [
        "x = np.linspace(0, 10, 50)\n",
        "y = np.sin(x)\n",
        "z = np.cos(x)\n",
        "\n",
        "plt.plot(x, y, \"--g\", label = \"sin(x)\") # https://matplotlib.org/3.3.2/api/_as_gen/matplotlib.pyplot.plot.html\n",
        "plt.plot(x, z, \"ko\", label = \"cos(x)\") # Change lines\n",
        "plt.legend() # Add legend\n",
        "\n",
        "plt.xlim(0, 6.5) # Change limits of x axis\n",
        "plt.ylim(-1.5, 1.5) # Change limits of y axis\n",
        "\n",
        "plt.title(\"Sinus and cosinus functions\") # put title\n",
        "\n",
        "plt.xlabel(\"abscissa\") # Add x label\n",
        "plt.ylabel(\"ordinate\") # Add y label\n",
        "\n",
        "plt.show()"
      ],
      "execution_count": null,
      "outputs": [
        {
          "output_type": "display_data",
          "data": {
            "image/png": "[encoded data removed]",
            "text/plain": [
              "<Figure size 432x288 with 1 Axes>"
            ]
          },
          "metadata": {
            "tags": [],
            "needs_background": "light"
          }
        }
      ]
    },
    {
      "cell_type": "code",
      "metadata": {
        "id": "zPQ2czVmlKIC",
        "outputId": "f465ae7b-3590-4d28-9094-e44a254d8513",
        "colab": {
          "base_uri": "https://localhost:8080/",
          "height": 295
        }
      },
      "source": [
        "x = np.linspace(0, 10, 50)\n",
        "y = np.sin(x)\n",
        "z = np.cos(x)\n",
        "\n",
        "plt.plot(x, y, \"g--\", label = \"sin(x)\") # https://matplotlib.org/3.3.2/api/_as_gen/matplotlib.pyplot.plot.html\n",
        "plt.plot(x, z, \"k-o\", label = \"cos(x)\") # Change lines\n",
        "plt.legend() # Add legend\n",
        "\n",
        "plt.xlim(0, 6.5) # Change limits of x axis\n",
        "plt.ylim(-1.5, 1.5) # Change limits of y axis\n",
        "\n",
        "plt.title(\"Sinus and cosinus functions\") # put title\n",
        "\n",
        "plt.xlabel(\"abscissa\") # Add x label\n",
        "plt.ylabel(\"ordinate\") # Add y label\n",
        "\n",
        "plt.axis(\"equal\") # xlim et ylim KO\n",
        "\n",
        "plt.show()"
      ],
      "execution_count": null,
      "outputs": [
        {
          "output_type": "display_data",
          "data": {
            "image/png": "[encoded data removed]",
            "text/plain": [
              "<Figure size 432x288 with 1 Axes>"
            ]
          },
          "metadata": {
            "tags": [],
            "needs_background": "light"
          }
        }
      ]
    },
    {
      "cell_type": "markdown",
      "metadata": {
        "id": "3hsHk-nEnW0M"
      },
      "source": [
        "### Bar chart"
      ]
    },
    {
      "cell_type": "code",
      "metadata": {
        "id": "_1ejFjxcnYXd",
        "outputId": "55ef5164-1c69-4da3-a51f-9ddf8c570424",
        "colab": {
          "base_uri": "https://localhost:8080/",
          "height": 295
        }
      },
      "source": [
        "x = np.array([0, 1, 2, 3, 4]) # Position on x axis\n",
        "y = np.array([5, 6, 4, 8, 9]) # Height of bar\n",
        "\n",
        "plt.bar(x, y) \n",
        "\n",
        "plt.title(\"Bar chart\") \n",
        "\n",
        "plt.xlabel(\"Category\")\n",
        "plt.ylabel(\"Value\")\n",
        "\n",
        "plt.show()"
      ],
      "execution_count": null,
      "outputs": [
        {
          "output_type": "display_data",
          "data": {
            "image/png": "[encoded data removed]",
            "text/plain": [
              "<Figure size 432x288 with 1 Axes>"
            ]
          },
          "metadata": {
            "tags": [],
            "needs_background": "light"
          }
        }
      ]
    },
    {
      "cell_type": "markdown",
      "metadata": {
        "id": "FKvTOvJekAdA"
      },
      "source": [
        "## 5.3 Pandas"
      ]
    },
    {
      "cell_type": "code",
      "metadata": {
        "id": "sWQZB1YWkDZX"
      },
      "source": [
        "import pandas as pd"
      ],
      "execution_count": null,
      "outputs": []
    },
    {
      "cell_type": "markdown",
      "metadata": {
        "id": "Jkm3Phz01V55"
      },
      "source": [
        "### Basics"
      ]
    },
    {
      "cell_type": "code",
      "metadata": {
        "id": "JRm0DR_nsf3z",
        "outputId": "a6dd2859-e6f1-4813-e5de-3f57fb60b1b8",
        "colab": {
          "base_uri": "https://localhost:8080/",
          "height": 255
        }
      },
      "source": [
        "# Access csv file and create dataframe\n",
        "first_df = pd.read_csv(\"/content/sample_data/california_housing_train.csv\")\n",
        "\n",
        "# Print the dataframe\n",
        "print(first_df)"
      ],
      "execution_count": null,
      "outputs": [
        {
          "output_type": "stream",
          "text": [
            "       longitude  latitude  ...  median_income  median_house_value\n",
            "0        -114.31     34.19  ...         1.4936             66900.0\n",
            "1        -114.47     34.40  ...         1.8200             80100.0\n",
            "2        -114.56     33.69  ...         1.6509             85700.0\n",
            "3        -114.57     33.64  ...         3.1917             73400.0\n",
            "4        -114.57     33.57  ...         1.9250             65500.0\n",
            "...          ...       ...  ...            ...                 ...\n",
            "16995    -124.26     40.58  ...         2.3571            111400.0\n",
            "16996    -124.27     40.69  ...         2.5179             79000.0\n",
            "16997    -124.30     41.84  ...         3.0313            103600.0\n",
            "16998    -124.30     41.80  ...         1.9797             85800.0\n",
            "16999    -124.35     40.54  ...         3.0147             94600.0\n",
            "\n",
            "[17000 rows x 9 columns]\n"
          ],
          "name": "stdout"
        }
      ]
    },
    {
      "cell_type": "code",
      "metadata": {
        "id": "F9C9EelMvMlV",
        "outputId": "7bca7104-2b04-4fee-cadb-27dd6c0d5f24",
        "colab": {
          "base_uri": "https://localhost:8080/",
          "height": 564
        }
      },
      "source": [
        "# Print the names of the columns in a list\n",
        "print(list(first_df.columns), \"\\n\")\n",
        "\n",
        "# Print the first rows of the df\n",
        "print(first_df.head(), \"\\n\")\n",
        "\n",
        "# Accessing columns\n",
        "print(first_df['longitude'].head(), \"\\n\")\n",
        "print(first_df[['longitude', 'latitude']].head(), \"\\n\")\n",
        "print(first_df[first_df.columns[0:2]].head())"
      ],
      "execution_count": null,
      "outputs": [
        {
          "output_type": "stream",
          "text": [
            "['longitude', 'latitude', 'housing_median_age', 'total_rooms', 'total_bedrooms', 'population', 'households', 'median_income', 'median_house_value'] \n",
            "\n",
            "   longitude  latitude  ...  median_income  median_house_value\n",
            "0    -114.31     34.19  ...         1.4936             66900.0\n",
            "1    -114.47     34.40  ...         1.8200             80100.0\n",
            "2    -114.56     33.69  ...         1.6509             85700.0\n",
            "3    -114.57     33.64  ...         3.1917             73400.0\n",
            "4    -114.57     33.57  ...         1.9250             65500.0\n",
            "\n",
            "[5 rows x 9 columns] \n",
            "\n",
            "0   -114.31\n",
            "1   -114.47\n",
            "2   -114.56\n",
            "3   -114.57\n",
            "4   -114.57\n",
            "Name: longitude, dtype: float64 \n",
            "\n",
            "   longitude  latitude\n",
            "0    -114.31     34.19\n",
            "1    -114.47     34.40\n",
            "2    -114.56     33.69\n",
            "3    -114.57     33.64\n",
            "4    -114.57     33.57 \n",
            "\n",
            "   longitude  latitude\n",
            "0    -114.31     34.19\n",
            "1    -114.47     34.40\n",
            "2    -114.56     33.69\n",
            "3    -114.57     33.64\n",
            "4    -114.57     33.57\n"
          ],
          "name": "stdout"
        }
      ]
    },
    {
      "cell_type": "code",
      "metadata": {
        "id": "JM0EyRBxwFso",
        "outputId": "ce865547-faf3-4f45-f7f9-1d36b59ee6b0",
        "colab": {
          "base_uri": "https://localhost:8080/",
          "height": 156
        }
      },
      "source": [
        "# Pretty printing the dataframe\n",
        "print(first_df.head().to_markdown())"
      ],
      "execution_count": null,
      "outputs": [
        {
          "output_type": "stream",
          "text": [
            "|    |   longitude |   latitude |   housing_median_age |   total_rooms |   total_bedrooms |   population |   households |   median_income |   median_house_value |\n",
            "|---:|------------:|-----------:|---------------------:|--------------:|-----------------:|-------------:|-------------:|----------------:|---------------------:|\n",
            "|  0 |     -114.31 |      34.19 |                   15 |          5612 |             1283 |         1015 |          472 |          1.4936 |                66900 |\n",
            "|  1 |     -114.47 |      34.4  |                   19 |          7650 |             1901 |         1129 |          463 |          1.82   |                80100 |\n",
            "|  2 |     -114.56 |      33.69 |                   17 |           720 |              174 |          333 |          117 |          1.6509 |                85700 |\n",
            "|  3 |     -114.57 |      33.64 |                   14 |          1501 |              337 |          515 |          226 |          3.1917 |                73400 |\n",
            "|  4 |     -114.57 |      33.57 |                   20 |          1454 |              326 |          624 |          262 |          1.925  |                65500 |\n"
          ],
          "name": "stdout"
        }
      ]
    },
    {
      "cell_type": "code",
      "metadata": {
        "id": "iw22PdeQ71vF",
        "outputId": "fb703e26-0b0e-4f79-c45d-4c21793f1bbb",
        "colab": {
          "base_uri": "https://localhost:8080/",
          "height": 646
        }
      },
      "source": [
        "# Accessing rows\n",
        "print(first_df.loc[0:11], \"\\n\") # loc -> name of row and column\n",
        "print(first_df.iloc[0:11], \"\\n\") # iloc -> indexes\n",
        "\n",
        "print(first_df.loc[0, [\"longitude\", \"latitude\"]], \"\\n\")\n",
        "# print(first_df.loc[0, 0], \"\\n\") # = KO\n",
        "\n",
        "# print (first_df.iloc[0, \"longitude\"], \"\\n\") # = KO\n",
        "print(first_df.iloc[0, 0], \"\\n\") "
      ],
      "execution_count": null,
      "outputs": [
        {
          "output_type": "stream",
          "text": [
            "    longitude  latitude  ...  median_income  median_house_value\n",
            "0     -114.31     34.19  ...         1.4936             66900.0\n",
            "1     -114.47     34.40  ...         1.8200             80100.0\n",
            "2     -114.56     33.69  ...         1.6509             85700.0\n",
            "3     -114.57     33.64  ...         3.1917             73400.0\n",
            "4     -114.57     33.57  ...         1.9250             65500.0\n",
            "5     -114.58     33.63  ...         3.3438             74000.0\n",
            "6     -114.58     33.61  ...         2.6768             82400.0\n",
            "7     -114.59     34.83  ...         1.7083             48500.0\n",
            "8     -114.59     33.61  ...         2.1782             58400.0\n",
            "9     -114.60     34.83  ...         2.1908             48100.0\n",
            "10    -114.60     33.62  ...         2.6797             86500.0\n",
            "11    -114.60     33.60  ...         1.6250             62000.0\n",
            "\n",
            "[12 rows x 9 columns] \n",
            "\n",
            "    longitude  latitude  ...  median_income  median_house_value\n",
            "0     -114.31     34.19  ...         1.4936             66900.0\n",
            "1     -114.47     34.40  ...         1.8200             80100.0\n",
            "2     -114.56     33.69  ...         1.6509             85700.0\n",
            "3     -114.57     33.64  ...         3.1917             73400.0\n",
            "4     -114.57     33.57  ...         1.9250             65500.0\n",
            "5     -114.58     33.63  ...         3.3438             74000.0\n",
            "6     -114.58     33.61  ...         2.6768             82400.0\n",
            "7     -114.59     34.83  ...         1.7083             48500.0\n",
            "8     -114.59     33.61  ...         2.1782             58400.0\n",
            "9     -114.60     34.83  ...         2.1908             48100.0\n",
            "10    -114.60     33.62  ...         2.6797             86500.0\n",
            "\n",
            "[11 rows x 9 columns] \n",
            "\n",
            "longitude   -114.31\n",
            "latitude      34.19\n",
            "Name: 0, dtype: float64 \n",
            "\n",
            "-114.31 \n",
            "\n"
          ],
          "name": "stdout"
        }
      ]
    },
    {
      "cell_type": "code",
      "metadata": {
        "id": "3RcmmwNM4YcI",
        "outputId": "26bf7c51-ca6b-4def-beda-a31ece01266e",
        "colab": {
          "base_uri": "https://localhost:8080/",
          "height": 85
        }
      },
      "source": [
        "# Conditional selection for accessing rows\n",
        "print(len(first_df[first_df[\"total_rooms\"] >= 10000]), \"\\n\")\n",
        "\n",
        "\n",
        "# 2 conditions\n",
        "# And\n",
        "print(len(first_df[(first_df[\"total_rooms\"] >= 10000) & (first_df[\"total_bedrooms\"] > 10000)]))\n",
        "\n",
        "#Or\n",
        "print(len(first_df[(first_df[\"total_rooms\"] >= 10000) | (first_df[\"total_bedrooms\"] > 1000)]))"
      ],
      "execution_count": null,
      "outputs": [
        {
          "output_type": "stream",
          "text": [
            "240 \n",
            "\n",
            "0\n",
            "1576\n"
          ],
          "name": "stdout"
        }
      ]
    },
    {
      "cell_type": "code",
      "metadata": {
        "id": "nBIivS2F7Wtr",
        "outputId": "668d268a-0f37-4d27-9eff-bdec19afc8f1",
        "colab": {
          "base_uri": "https://localhost:8080/",
          "height": 238
        }
      },
      "source": [
        "# Select a column with a condition\n",
        "print(first_df[(first_df[\"total_rooms\"] >= 10000) & (first_df[\"total_bedrooms\"] > 1000)].longitude, \"\\n\")"
      ],
      "execution_count": null,
      "outputs": [
        {
          "output_type": "stream",
          "text": [
            "133     -116.06\n",
            "175     -116.29\n",
            "186     -116.33\n",
            "187     -116.33\n",
            "191     -116.36\n",
            "          ...  \n",
            "15971   -122.43\n",
            "16146   -122.46\n",
            "16153   -122.47\n",
            "16441   -122.58\n",
            "16442   -122.58\n",
            "Name: longitude, Length: 240, dtype: float64 \n",
            "\n"
          ],
          "name": "stdout"
        }
      ]
    },
    {
      "cell_type": "markdown",
      "metadata": {
        "id": "ytM7InOE4M7I"
      },
      "source": [
        "### Some functions/methods"
      ]
    },
    {
      "cell_type": "code",
      "metadata": {
        "id": "Rt0B9RvR4PPE",
        "outputId": "733ef66a-92a4-4f59-d9bb-e1f98734c3f4",
        "colab": {
          "base_uri": "https://localhost:8080/",
          "height": 185
        }
      },
      "source": [
        "# Print the type of each column\n",
        "print(first_df.dtypes)"
      ],
      "execution_count": null,
      "outputs": [
        {
          "output_type": "stream",
          "text": [
            "longitude             float64\n",
            "latitude              float64\n",
            "housing_median_age    float64\n",
            "total_rooms           float64\n",
            "total_bedrooms        float64\n",
            "population            float64\n",
            "households            float64\n",
            "median_income         float64\n",
            "median_house_value    float64\n",
            "dtype: object\n"
          ],
          "name": "stdout"
        }
      ]
    },
    {
      "cell_type": "code",
      "metadata": {
        "id": "WIVt5XMwwZb2",
        "outputId": "6c5c2e2b-f97e-4b24-8483-471cc90ccffd",
        "colab": {
          "base_uri": "https://localhost:8080/",
          "height": 205
        }
      },
      "source": [
        "# Print stats about the df\n",
        "print(first_df.describe().to_markdown())"
      ],
      "execution_count": null,
      "outputs": [
        {
          "output_type": "stream",
          "text": [
            "|       |   longitude |    latitude |   housing_median_age |   total_rooms |   total_bedrooms |   population |   households |   median_income |   median_house_value |\n",
            "|:------|------------:|------------:|---------------------:|--------------:|-----------------:|-------------:|-------------:|----------------:|---------------------:|\n",
            "| count | 17000       | 17000       |           17000      |      17000    |        17000     |     17000    |    17000     |     17000       |                17000 |\n",
            "| mean  |  -119.562   |    35.6252  |              28.5894 |       2643.66 |          539.411 |      1429.57 |      501.222 |         3.88358 |               207301 |\n",
            "| std   |     2.00517 |     2.13734 |              12.5869 |       2179.95 |          421.499 |      1147.85 |      384.521 |         1.90816 |               115984 |\n",
            "| min   |  -124.35    |    32.54    |               1      |          2    |            1     |         3    |        1     |         0.4999  |                14999 |\n",
            "| 25%   |  -121.79    |    33.93    |              18      |       1462    |          297     |       790    |      282     |         2.56637 |               119400 |\n",
            "| 50%   |  -118.49    |    34.25    |              29      |       2127    |          434     |      1167    |      409     |         3.5446  |               180400 |\n",
            "| 75%   |  -118       |    37.72    |              37      |       3151.25 |          648.25  |      1721    |      605.25  |         4.767   |               265000 |\n",
            "| max   |  -114.31    |    41.95    |              52      |      37937    |         6445     |     35682    |     6082     |        15.0001  |               500001 |\n"
          ],
          "name": "stdout"
        }
      ]
    },
    {
      "cell_type": "code",
      "metadata": {
        "id": "GYsUhpBNiYnF",
        "outputId": "d832af93-9b5f-401d-c0e3-1958a09baf78",
        "colab": {
          "base_uri": "https://localhost:8080/",
          "height": 34
        }
      },
      "source": [
        "# Print the length\n",
        "print(len(first_df))"
      ],
      "execution_count": null,
      "outputs": [
        {
          "output_type": "stream",
          "text": [
            "17000\n"
          ],
          "name": "stdout"
        }
      ]
    },
    {
      "cell_type": "code",
      "metadata": {
        "id": "4Zeq0FkyikZ9"
      },
      "source": [
        "# Print the unique values of a column\n",
        "print(first_df[\"longitude\"].unique(), \"\\n\")\n",
        "print(type(first_df[\"longitude\"].unique()), \"\\n\")\n",
        "\n",
        "# Print the number of unique values in a column\n",
        "print(first_df[\"housing_median_age\"].nunique(), \"\\n\")\n",
        "print(len(first_df[\"housing_median_age\"].unique()), \"\\n\")"
      ],
      "execution_count": null,
      "outputs": []
    },
    {
      "cell_type": "code",
      "metadata": {
        "id": "o8Bl-sR3kakK",
        "outputId": "e330b7f7-85da-4588-cc62-9360b003e919",
        "colab": {
          "base_uri": "https://localhost:8080/",
          "height": 504
        }
      },
      "source": [
        "# Reset the index when modified\n",
        "smaller_df = first_df[first_df[\"total_rooms\"] >= 10000]\n",
        "print(smaller_df, \"\\n\")\n",
        "smaller_df = smaller_df.reset_index()\n",
        "print(smaller_df)"
      ],
      "execution_count": null,
      "outputs": [
        {
          "output_type": "stream",
          "text": [
            "       longitude  latitude  ...  median_income  median_house_value\n",
            "133      -116.06     34.15  ...         2.2466             66800.0\n",
            "175      -116.29     33.74  ...         4.7195            199300.0\n",
            "186      -116.33     33.75  ...         4.0360            158500.0\n",
            "187      -116.33     33.72  ...         7.4382            353100.0\n",
            "191      -116.36     33.88  ...         1.7844             78500.0\n",
            "...          ...       ...  ...            ...                 ...\n",
            "15971    -122.43     37.43  ...         4.8405            354300.0\n",
            "16146    -122.46     37.59  ...         5.7653            325800.0\n",
            "16153    -122.47     37.89  ...         7.2905            500001.0\n",
            "16441    -122.58     38.10  ...         4.6463            276300.0\n",
            "16442    -122.58     38.08  ...         5.6150            285600.0\n",
            "\n",
            "[240 rows x 9 columns] \n",
            "\n",
            "     index  longitude  latitude  ...  households  median_income  median_house_value\n",
            "0      133    -116.06     34.15  ...      1807.0         2.2466             66800.0\n",
            "1      175    -116.29     33.74  ...      1926.0         4.7195            199300.0\n",
            "2      186    -116.33     33.75  ...      1376.0         4.0360            158500.0\n",
            "3      187    -116.33     33.72  ...      1139.0         7.4382            353100.0\n",
            "4      191    -116.36     33.88  ...      1232.0         1.7844             78500.0\n",
            "..     ...        ...       ...  ...         ...            ...                 ...\n",
            "235  15971    -122.43     37.43  ...      1989.0         4.8405            354300.0\n",
            "236  16146    -122.46     37.59  ...      2082.0         5.7653            325800.0\n",
            "237  16153    -122.47     37.89  ...      1683.0         7.2905            500001.0\n",
            "238  16441    -122.58     38.10  ...      2200.0         4.6463            276300.0\n",
            "239  16442    -122.58     38.08  ...      1623.0         5.6150            285600.0\n",
            "\n",
            "[240 rows x 10 columns]\n"
          ],
          "name": "stdout"
        }
      ]
    },
    {
      "cell_type": "code",
      "metadata": {
        "id": "qCcctFfHk_WS",
        "outputId": "438a26e0-83e2-4516-f102-d8ad0957a356",
        "colab": {
          "base_uri": "https://localhost:8080/",
          "height": 918
        }
      },
      "source": [
        "# Groupby and count operations\n",
        "df_by_age = first_df[[\"latitude\", \"longitude\",\"housing_median_age\"]].groupby(\"housing_median_age\",as_index=False).count()\n",
        "# Use sum(), mean(), max(), min() instead of count()\n",
        "print(df_by_age)"
      ],
      "execution_count": null,
      "outputs": [
        {
          "output_type": "stream",
          "text": [
            "    housing_median_age  latitude  longitude\n",
            "0                  1.0         2          2\n",
            "1                  2.0        49         49\n",
            "2                  3.0        46         46\n",
            "3                  4.0       161        161\n",
            "4                  5.0       199        199\n",
            "5                  6.0       129        129\n",
            "6                  7.0       151        151\n",
            "7                  8.0       178        178\n",
            "8                  9.0       172        172\n",
            "9                 10.0       226        226\n",
            "10                11.0       208        208\n",
            "11                12.0       192        192\n",
            "12                13.0       249        249\n",
            "13                14.0       347        347\n",
            "14                15.0       416        416\n",
            "15                16.0       635        635\n",
            "16                17.0       576        576\n",
            "17                18.0       478        478\n",
            "18                19.0       412        412\n",
            "19                20.0       383        383\n",
            "20                21.0       373        373\n",
            "21                22.0       323        323\n",
            "22                23.0       382        382\n",
            "23                24.0       389        389\n",
            "24                25.0       461        461\n",
            "25                26.0       503        503\n",
            "26                27.0       397        397\n",
            "27                28.0       400        400\n",
            "28                29.0       374        374\n",
            "29                30.0       384        384\n",
            "30                31.0       384        384\n",
            "31                32.0       458        458\n",
            "32                33.0       513        513\n",
            "33                34.0       567        567\n",
            "34                35.0       692        692\n",
            "35                36.0       715        715\n",
            "36                37.0       437        437\n",
            "37                38.0       318        318\n",
            "38                39.0       302        302\n",
            "39                40.0       249        249\n",
            "40                41.0       232        232\n",
            "41                42.0       308        308\n",
            "42                43.0       286        286\n",
            "43                44.0       296        296\n",
            "44                45.0       235        235\n",
            "45                46.0       196        196\n",
            "46                47.0       175        175\n",
            "47                48.0       135        135\n",
            "48                49.0       111        111\n",
            "49                50.0       112        112\n",
            "50                51.0        32         32\n",
            "51                52.0      1052       1052\n"
          ],
          "name": "stdout"
        }
      ]
    },
    {
      "cell_type": "code",
      "metadata": {
        "id": "BvmZLUbJ0Csz",
        "outputId": "a7dca0cb-5790-4a0f-bbdb-b330942a7dee",
        "colab": {
          "base_uri": "https://localhost:8080/",
          "height": 907
        }
      },
      "source": [
        "# Count values\n",
        "print(first_df[\"housing_median_age\"].value_counts())"
      ],
      "execution_count": null,
      "outputs": [
        {
          "output_type": "stream",
          "text": [
            "52.0    1052\n",
            "36.0     715\n",
            "35.0     692\n",
            "16.0     635\n",
            "17.0     576\n",
            "34.0     567\n",
            "33.0     513\n",
            "26.0     503\n",
            "18.0     478\n",
            "25.0     461\n",
            "32.0     458\n",
            "37.0     437\n",
            "15.0     416\n",
            "19.0     412\n",
            "28.0     400\n",
            "27.0     397\n",
            "24.0     389\n",
            "30.0     384\n",
            "31.0     384\n",
            "20.0     383\n",
            "23.0     382\n",
            "29.0     374\n",
            "21.0     373\n",
            "14.0     347\n",
            "22.0     323\n",
            "38.0     318\n",
            "42.0     308\n",
            "39.0     302\n",
            "44.0     296\n",
            "43.0     286\n",
            "13.0     249\n",
            "40.0     249\n",
            "45.0     235\n",
            "41.0     232\n",
            "10.0     226\n",
            "11.0     208\n",
            "5.0      199\n",
            "46.0     196\n",
            "12.0     192\n",
            "8.0      178\n",
            "47.0     175\n",
            "9.0      172\n",
            "4.0      161\n",
            "7.0      151\n",
            "48.0     135\n",
            "6.0      129\n",
            "50.0     112\n",
            "49.0     111\n",
            "2.0       49\n",
            "3.0       46\n",
            "51.0      32\n",
            "1.0        2\n",
            "Name: housing_median_age, dtype: int64\n"
          ],
          "name": "stdout"
        }
      ]
    },
    {
      "cell_type": "code",
      "metadata": {
        "id": "Dyo7M3Ymyy9R",
        "outputId": "49f690be-5b8d-4a37-ff5c-4fb31547e006",
        "colab": {
          "base_uri": "https://localhost:8080/",
          "height": 423
        }
      },
      "source": [
        "# Operations on str\n",
        "first_df[\"a_str_column\"] = \"A str with brackets (brackets)\"\n",
        "print(first_df.head().to_markdown(), \"\\n\")\n",
        "\n",
        "first_df[\"only_brackets\"] = first_df[\"a_str_column\"].str[-10:]\n",
        "print(first_df.head().to_markdown(), \"\\n\")\n",
        "\n",
        "cont_brackets = first_df[\"only_brackets\"].str.contains(\"brackets\")\n",
        "print(first_df[cont_brackets].head().to_markdown())"
      ],
      "execution_count": null,
      "outputs": [
        {
          "output_type": "stream",
          "text": [
            "|    |   longitude |   latitude |   housing_median_age |   total_rooms |   total_bedrooms |   population |   households |   median_income |   median_house_value | a_str_column                   | only_brackets   |\n",
            "|---:|------------:|-----------:|---------------------:|--------------:|-----------------:|-------------:|-------------:|----------------:|---------------------:|:-------------------------------|:----------------|\n",
            "|  0 |     -114.31 |      34.19 |                   15 |          5612 |             1283 |         1015 |          472 |          1.4936 |                66900 | A str with brackets (brackets) | (brackets)      |\n",
            "|  1 |     -114.47 |      34.4  |                   19 |          7650 |             1901 |         1129 |          463 |          1.82   |                80100 | A str with brackets (brackets) | (brackets)      |\n",
            "|  2 |     -114.56 |      33.69 |                   17 |           720 |              174 |          333 |          117 |          1.6509 |                85700 | A str with brackets (brackets) | (brackets)      |\n",
            "|  3 |     -114.57 |      33.64 |                   14 |          1501 |              337 |          515 |          226 |          3.1917 |                73400 | A str with brackets (brackets) | (brackets)      |\n",
            "|  4 |     -114.57 |      33.57 |                   20 |          1454 |              326 |          624 |          262 |          1.925  |                65500 | A str with brackets (brackets) | (brackets)      | \n",
            "\n",
            "|    |   longitude |   latitude |   housing_median_age |   total_rooms |   total_bedrooms |   population |   households |   median_income |   median_house_value | a_str_column                   | only_brackets   |\n",
            "|---:|------------:|-----------:|---------------------:|--------------:|-----------------:|-------------:|-------------:|----------------:|---------------------:|:-------------------------------|:----------------|\n",
            "|  0 |     -114.31 |      34.19 |                   15 |          5612 |             1283 |         1015 |          472 |          1.4936 |                66900 | A str with brackets (brackets) | (brackets)      |\n",
            "|  1 |     -114.47 |      34.4  |                   19 |          7650 |             1901 |         1129 |          463 |          1.82   |                80100 | A str with brackets (brackets) | (brackets)      |\n",
            "|  2 |     -114.56 |      33.69 |                   17 |           720 |              174 |          333 |          117 |          1.6509 |                85700 | A str with brackets (brackets) | (brackets)      |\n",
            "|  3 |     -114.57 |      33.64 |                   14 |          1501 |              337 |          515 |          226 |          3.1917 |                73400 | A str with brackets (brackets) | (brackets)      |\n",
            "|  4 |     -114.57 |      33.57 |                   20 |          1454 |              326 |          624 |          262 |          1.925  |                65500 | A str with brackets (brackets) | (brackets)      | \n",
            "\n",
            "|    |   longitude |   latitude |   housing_median_age |   total_rooms |   total_bedrooms |   population |   households |   median_income |   median_house_value | a_str_column                   | only_brackets   |\n",
            "|---:|------------:|-----------:|---------------------:|--------------:|-----------------:|-------------:|-------------:|----------------:|---------------------:|:-------------------------------|:----------------|\n",
            "|  0 |     -114.31 |      34.19 |                   15 |          5612 |             1283 |         1015 |          472 |          1.4936 |                66900 | A str with brackets (brackets) | (brackets)      |\n",
            "|  1 |     -114.47 |      34.4  |                   19 |          7650 |             1901 |         1129 |          463 |          1.82   |                80100 | A str with brackets (brackets) | (brackets)      |\n",
            "|  2 |     -114.56 |      33.69 |                   17 |           720 |              174 |          333 |          117 |          1.6509 |                85700 | A str with brackets (brackets) | (brackets)      |\n",
            "|  3 |     -114.57 |      33.64 |                   14 |          1501 |              337 |          515 |          226 |          3.1917 |                73400 | A str with brackets (brackets) | (brackets)      |\n",
            "|  4 |     -114.57 |      33.57 |                   20 |          1454 |              326 |          624 |          262 |          1.925  |                65500 | A str with brackets (brackets) | (brackets)      |\n"
          ],
          "name": "stdout"
        }
      ]
    },
    {
      "cell_type": "markdown",
      "metadata": {
        "id": "cidrEGzYwtce"
      },
      "source": [
        "### Modify the dataframe"
      ]
    },
    {
      "cell_type": "code",
      "metadata": {
        "id": "NvNgNzC7wwdc",
        "outputId": "45c3e12c-97e2-4ffa-bb8a-2c5d23fe6b4c",
        "colab": {
          "base_uri": "https://localhost:8080/",
          "height": 289
        }
      },
      "source": [
        "# Add a column\n",
        "first_df[\"a_str_column\"] = \"Here is a str (with brackets)\"\n",
        "first_df[\"A_str_column\"] = \"Here is a str (with brackets)\"\n",
        "\n",
        "print(first_df.head().to_markdown(), \"\\n\")\n",
        "\n",
        "# Drop a column\n",
        "first_df = first_df.drop(\"a_str_column\", axis=1)\n",
        "first_df = first_df.drop(columns = \"A_str_column\")\n",
        "\n",
        "print(first_df.head().to_markdown())"
      ],
      "execution_count": null,
      "outputs": [
        {
          "output_type": "stream",
          "text": [
            "|    |   longitude |   latitude |   housing_median_age |   total_rooms |   total_bedrooms |   population |   households |   median_income |   median_house_value | a_str_column                  | only_brackets   | A_str_column                  |\n",
            "|---:|------------:|-----------:|---------------------:|--------------:|-----------------:|-------------:|-------------:|----------------:|---------------------:|:------------------------------|:----------------|:------------------------------|\n",
            "|  0 |     -114.31 |      34.19 |                   15 |          5612 |             1283 |         1015 |          472 |          1.4936 |                66900 | Here is a str (with brackets) | (brackets)      | Here is a str (with brackets) |\n",
            "|  1 |     -114.47 |      34.4  |                   19 |          7650 |             1901 |         1129 |          463 |          1.82   |                80100 | Here is a str (with brackets) | (brackets)      | Here is a str (with brackets) |\n",
            "|  2 |     -114.56 |      33.69 |                   17 |           720 |              174 |          333 |          117 |          1.6509 |                85700 | Here is a str (with brackets) | (brackets)      | Here is a str (with brackets) |\n",
            "|  3 |     -114.57 |      33.64 |                   14 |          1501 |              337 |          515 |          226 |          3.1917 |                73400 | Here is a str (with brackets) | (brackets)      | Here is a str (with brackets) |\n",
            "|  4 |     -114.57 |      33.57 |                   20 |          1454 |              326 |          624 |          262 |          1.925  |                65500 | Here is a str (with brackets) | (brackets)      | Here is a str (with brackets) | \n",
            "\n",
            "|    |   longitude |   latitude |   housing_median_age |   total_rooms |   total_bedrooms |   population |   households |   median_income |   median_house_value | only_brackets   |\n",
            "|---:|------------:|-----------:|---------------------:|--------------:|-----------------:|-------------:|-------------:|----------------:|---------------------:|:----------------|\n",
            "|  0 |     -114.31 |      34.19 |                   15 |          5612 |             1283 |         1015 |          472 |          1.4936 |                66900 | (brackets)      |\n",
            "|  1 |     -114.47 |      34.4  |                   19 |          7650 |             1901 |         1129 |          463 |          1.82   |                80100 | (brackets)      |\n",
            "|  2 |     -114.56 |      33.69 |                   17 |           720 |              174 |          333 |          117 |          1.6509 |                85700 | (brackets)      |\n",
            "|  3 |     -114.57 |      33.64 |                   14 |          1501 |              337 |          515 |          226 |          3.1917 |                73400 | (brackets)      |\n",
            "|  4 |     -114.57 |      33.57 |                   20 |          1454 |              326 |          624 |          262 |          1.925  |                65500 | (brackets)      |\n"
          ],
          "name": "stdout"
        }
      ]
    },
    {
      "cell_type": "code",
      "metadata": {
        "id": "OmsgRo6_y5U1",
        "outputId": "24f8254a-1b6a-4f7c-e639-6c5fe6aa721c",
        "colab": {
          "base_uri": "https://localhost:8080/",
          "height": 134
        }
      },
      "source": [
        "# Drop rows\n",
        "first_df = first_df.drop(range(0,10), axis=0) # How to get rows back?\n",
        "\n",
        "print(first_df.head().to_markdown())"
      ],
      "execution_count": null,
      "outputs": [
        {
          "output_type": "stream",
          "text": [
            "|    |   longitude |   latitude |   housing_median_age |   total_rooms |   total_bedrooms |   population |   households |   median_income |   median_house_value | only_brackets   |\n",
            "|---:|------------:|-----------:|---------------------:|--------------:|-----------------:|-------------:|-------------:|----------------:|---------------------:|:----------------|\n",
            "| 10 |     -114.6  |      33.62 |                   16 |          3741 |              801 |         2434 |          824 |          2.6797 |                86500 | (brackets)      |\n",
            "| 11 |     -114.6  |      33.6  |                   21 |          1988 |              483 |         1182 |          437 |          1.625  |                62000 | (brackets)      |\n",
            "| 12 |     -114.61 |      34.84 |                   48 |          1291 |              248 |          580 |          211 |          2.1571 |                48600 | (brackets)      |\n",
            "| 13 |     -114.61 |      34.83 |                   31 |          2478 |              464 |         1346 |          479 |          3.212  |                70400 | (brackets)      |\n",
            "| 14 |     -114.63 |      32.76 |                   15 |          1448 |              378 |          949 |          300 |          0.8585 |                45000 | (brackets)      |\n"
          ],
          "name": "stdout"
        }
      ]
    },
    {
      "cell_type": "code",
      "metadata": {
        "id": "CAe_p0zP65ax",
        "outputId": "1b854146-4dfc-45f4-831e-7491acf149b4",
        "colab": {
          "base_uri": "https://localhost:8080/",
          "height": 420
        }
      },
      "source": [
        "# Change value\n",
        "smaller_df = first_df[first_df[\"total_rooms\"] >= 10000]\n",
        "smaller_df.iloc[0, 0] = \"Changed_value\"\n",
        "\n",
        "print(smaller_df.head().to_markdown())\n",
        "print(first_df.loc[133].to_markdown())"
      ],
      "execution_count": null,
      "outputs": [
        {
          "output_type": "stream",
          "text": [
            "|     | longitude     |   latitude |   housing_median_age |   total_rooms |   total_bedrooms |   population |   households |   median_income |   median_house_value |\n",
            "|----:|:--------------|-----------:|---------------------:|--------------:|-----------------:|-------------:|-------------:|----------------:|---------------------:|\n",
            "| 133 | Changed_value |      34.15 |                   15 |         10377 |             2331 |         4507 |         1807 |          2.2466 |                66800 |\n",
            "| 175 | -116.29       |      33.74 |                    6 |         12991 |             2555 |         4571 |         1926 |          4.7195 |               199300 |\n",
            "| 186 | -116.33       |      33.75 |                    5 |         19107 |             3923 |         2880 |         1376 |          4.036  |               158500 |\n",
            "| 187 | -116.33       |      33.72 |                   11 |         12327 |             2000 |         2450 |         1139 |          7.4382 |               353100 |\n",
            "| 191 | -116.36       |      33.88 |                   11 |         12557 |             3098 |         2453 |         1232 |          1.7844 |                78500 |\n",
            "|                    |        133 |\n",
            "|:-------------------|-----------:|\n",
            "| longitude          |  -116.06   |\n",
            "| latitude           |    34.15   |\n",
            "| housing_median_age |    15      |\n",
            "| total_rooms        | 10377      |\n",
            "| total_bedrooms     |  2331      |\n",
            "| population         |  4507      |\n",
            "| households         |  1807      |\n",
            "| median_income      |     2.2466 |\n",
            "| median_house_value | 66800      |\n"
          ],
          "name": "stdout"
        },
        {
          "output_type": "stream",
          "text": [
            "/usr/local/lib/python3.6/dist-packages/pandas/core/indexing.py:1765: SettingWithCopyWarning: \n",
            "A value is trying to be set on a copy of a slice from a DataFrame.\n",
            "Try using .loc[row_indexer,col_indexer] = value instead\n",
            "\n",
            "See the caveats in the documentation: https://pandas.pydata.org/pandas-docs/stable/user_guide/indexing.html#returning-a-view-versus-a-copy\n",
            "  isetter(loc, value)\n"
          ],
          "name": "stderr"
        }
      ]
    },
    {
      "cell_type": "code",
      "metadata": {
        "id": "zy5ZUiCf7nC4",
        "outputId": "06d3eafb-6fb4-44fb-d187-530302b5b0ac",
        "colab": {
          "base_uri": "https://localhost:8080/",
          "height": 252
        }
      },
      "source": [
        "# Replace value with Nan\n",
        "first_df = first_df.replace(-114.31, np.nan)\n",
        "\n",
        "print(first_df)"
      ],
      "execution_count": null,
      "outputs": [
        {
          "output_type": "stream",
          "text": [
            "       longitude  latitude  ...  median_income  median_house_value\n",
            "0            NaN     34.19  ...         1.4936             66900.0\n",
            "1        -114.47     34.40  ...         1.8200             80100.0\n",
            "2        -114.56     33.69  ...         1.6509             85700.0\n",
            "3        -114.57     33.64  ...         3.1917             73400.0\n",
            "4        -114.57     33.57  ...         1.9250             65500.0\n",
            "...          ...       ...  ...            ...                 ...\n",
            "16995    -124.26     40.58  ...         2.3571            111400.0\n",
            "16996    -124.27     40.69  ...         2.5179             79000.0\n",
            "16997    -124.30     41.84  ...         3.0313            103600.0\n",
            "16998    -124.30     41.80  ...         1.9797             85800.0\n",
            "16999    -124.35     40.54  ...         3.0147             94600.0\n",
            "\n",
            "[17000 rows x 9 columns]\n"
          ],
          "name": "stdout"
        }
      ]
    },
    {
      "cell_type": "markdown",
      "metadata": {
        "id": "VN1rTClD18KI"
      },
      "source": [
        "### Deal with nan values"
      ]
    },
    {
      "cell_type": "code",
      "metadata": {
        "id": "B3ku_T7a2AOz",
        "outputId": "b639aa8c-9149-4425-afdf-038e0d7e3114",
        "colab": {
          "base_uri": "https://localhost:8080/",
          "height": 386
        }
      },
      "source": [
        "# Find nan values\n",
        "print(first_df.head().isna(), \"\\n\")\n",
        "print(first_df.isna().sum(), \"\\n\") # Number of Nan values per column\n",
        "print(first_df.isna().sum().sum(), \"\\n\") # Total number of Nan values"
      ],
      "execution_count": null,
      "outputs": [
        {
          "output_type": "stream",
          "text": [
            "   longitude  latitude  ...  median_income  median_house_value\n",
            "0       True     False  ...          False               False\n",
            "1      False     False  ...          False               False\n",
            "2      False     False  ...          False               False\n",
            "3      False     False  ...          False               False\n",
            "4      False     False  ...          False               False\n",
            "\n",
            "[5 rows x 9 columns] \n",
            "\n",
            "longitude             1\n",
            "latitude              0\n",
            "housing_median_age    0\n",
            "total_rooms           0\n",
            "total_bedrooms        0\n",
            "population            0\n",
            "households            0\n",
            "median_income         0\n",
            "median_house_value    0\n",
            "dtype: int64 \n",
            "\n",
            "1 \n",
            "\n"
          ],
          "name": "stdout"
        }
      ]
    },
    {
      "cell_type": "code",
      "metadata": {
        "id": "7h7U8L6X3zn0",
        "outputId": "8531a82f-0322-46e5-e87c-3c2f140f1107",
        "colab": {
          "base_uri": "https://localhost:8080/",
          "height": 154
        }
      },
      "source": [
        "# Drop rows with nan values\n",
        "#first_df = first_df.dropna(axis=0)\n",
        "\n",
        "# Drop columns with nan values\n",
        "first_df = first_df.dropna(axis=1)\n",
        "\n",
        "print(first_df.head().to_markdown())"
      ],
      "execution_count": null,
      "outputs": [
        {
          "output_type": "stream",
          "text": [
            "|    |   latitude |   housing_median_age |   total_rooms |   total_bedrooms |   population |   households |   median_income |   median_house_value |\n",
            "|---:|-----------:|---------------------:|--------------:|-----------------:|-------------:|-------------:|----------------:|---------------------:|\n",
            "|  0 |      34.19 |                   15 |          5612 |             1283 |         1015 |          472 |          1.4936 |                66900 |\n",
            "|  1 |      34.4  |                   19 |          7650 |             1901 |         1129 |          463 |          1.82   |                80100 |\n",
            "|  2 |      33.69 |                   17 |           720 |              174 |          333 |          117 |          1.6509 |                85700 |\n",
            "|  3 |      33.64 |                   14 |          1501 |              337 |          515 |          226 |          3.1917 |                73400 |\n",
            "|  4 |      33.57 |                   20 |          1454 |              326 |          624 |          262 |          1.925  |                65500 |\n"
          ],
          "name": "stdout"
        }
      ]
    },
    {
      "cell_type": "code",
      "metadata": {
        "id": "qwPgYXLb5Wqs",
        "outputId": "662a4b13-3f2a-4a21-faca-73798e61a5ef",
        "colab": {
          "base_uri": "https://localhost:8080/",
          "height": 252
        }
      },
      "source": [
        "# Fill nan values\n",
        "first_df = first_df.fillna(value=\"Whatever\")\n",
        "\n",
        "print(first_df)"
      ],
      "execution_count": null,
      "outputs": [
        {
          "output_type": "stream",
          "text": [
            "      longitude  latitude  ...  median_income  median_house_value\n",
            "0      Whatever     34.19  ...         1.4936             66900.0\n",
            "1       -114.47     34.40  ...         1.8200             80100.0\n",
            "2       -114.56     33.69  ...         1.6509             85700.0\n",
            "3       -114.57     33.64  ...         3.1917             73400.0\n",
            "4       -114.57     33.57  ...         1.9250             65500.0\n",
            "...         ...       ...  ...            ...                 ...\n",
            "16995   -124.26     40.58  ...         2.3571            111400.0\n",
            "16996   -124.27     40.69  ...         2.5179             79000.0\n",
            "16997    -124.3     41.84  ...         3.0313            103600.0\n",
            "16998    -124.3     41.80  ...         1.9797             85800.0\n",
            "16999   -124.35     40.54  ...         3.0147             94600.0\n",
            "\n",
            "[17000 rows x 9 columns]\n"
          ],
          "name": "stdout"
        }
      ]
    },
    {
      "cell_type": "markdown",
      "metadata": {
        "id": "znSlRe4Yr4wY"
      },
      "source": [
        "### More advanced operations"
      ]
    },
    {
      "cell_type": "code",
      "metadata": {
        "id": "tMrCV0kzOP__"
      },
      "source": [
        "import pandas as pd\n",
        "import numpy as np\n",
        "import matplotlib.pyplot as plt"
      ],
      "execution_count": null,
      "outputs": []
    },
    {
      "cell_type": "code",
      "metadata": {
        "id": "Scr1bKhRsASr"
      },
      "source": [
        "links = pd.read_csv(\"/content/drive/My Drive/Colab Notebooks/links.csv\")\n",
        "movies = pd.read_csv(\"/content/drive/My Drive/Colab Notebooks/movies.csv\")\n",
        "ratings = pd.read_csv(\"/content/drive/My Drive/Colab Notebooks/ratings.csv\")"
      ],
      "execution_count": null,
      "outputs": []
    },
    {
      "cell_type": "code",
      "metadata": {
        "id": "pJENiF5SKwaI",
        "outputId": "f10f63eb-6e9b-4925-9ca7-4288452db916",
        "colab": {
          "base_uri": "https://localhost:8080/"
        }
      },
      "source": [
        "print(list(links.columns))\n",
        "print(list(movies.columns))\n",
        "print(list(ratings.columns))"
      ],
      "execution_count": null,
      "outputs": [
        {
          "output_type": "stream",
          "text": [
            "['movieId', 'imdbId', 'tmdbId']\n",
            "['movieId', 'title', 'genres']\n",
            "['userId', 'movieId', 'rating', 'timestamp']\n"
          ],
          "name": "stdout"
        }
      ]
    },
    {
      "cell_type": "code",
      "metadata": {
        "id": "4k52e7hnvqM7"
      },
      "source": [
        "# Apply fct to dataframe\n",
        "print(ratings.head())\n",
        "\n",
        "def f(x):\n",
        "  return x + 1\n",
        "\n",
        "ratings[\"userId\"] = ratings[\"userId\"].apply(f)\n",
        "print(ratings.head())"
      ],
      "execution_count": null,
      "outputs": []
    },
    {
      "cell_type": "code",
      "metadata": {
        "id": "owCB791_xQg-"
      },
      "source": [
        "print(ratings.head(), \"\\n\")\n",
        "ratings[\"movieId\"] = ratings[\"movieId\"].apply(lambda x: x +1)\n",
        "print(ratings.head())"
      ],
      "execution_count": null,
      "outputs": []
    },
    {
      "cell_type": "code",
      "metadata": {
        "id": "d-zChk73yRX2",
        "outputId": "23555742-463d-4dc7-d4af-858ff26d2337",
        "colab": {
          "base_uri": "https://localhost:8080/",
          "height": 588
        }
      },
      "source": [
        "print(movies.head(), \"\\n\")\n",
        "print(movies[\"genres\"].apply(lambda x: x.replace(\"|\", \"\")), \"\\n\")\n",
        "print(movies[\"genres\"].str.replace(\"|\", \"\"))"
      ],
      "execution_count": null,
      "outputs": [
        {
          "output_type": "stream",
          "text": [
            "   movieId  ...                                       genres\n",
            "0        1  ...  Adventure|Animation|Children|Comedy|Fantasy\n",
            "1        2  ...                   Adventure|Children|Fantasy\n",
            "2        3  ...                               Comedy|Romance\n",
            "3        4  ...                         Comedy|Drama|Romance\n",
            "4        5  ...                                       Comedy\n",
            "\n",
            "[5 rows x 3 columns] \n",
            "\n",
            "0       AdventureAnimationChildrenComedyFantasy\n",
            "1                      AdventureChildrenFantasy\n",
            "2                                 ComedyRomance\n",
            "3                            ComedyDramaRomance\n",
            "4                                        Comedy\n",
            "                         ...                   \n",
            "9737               ActionAnimationComedyFantasy\n",
            "9738                     AnimationComedyFantasy\n",
            "9739                                      Drama\n",
            "9740                            ActionAnimation\n",
            "9741                                     Comedy\n",
            "Name: genres, Length: 9742, dtype: object \n",
            "\n",
            "0       AdventureAnimationChildrenComedyFantasy\n",
            "1                      AdventureChildrenFantasy\n",
            "2                                 ComedyRomance\n",
            "3                            ComedyDramaRomance\n",
            "4                                        Comedy\n",
            "                         ...                   \n",
            "9737               ActionAnimationComedyFantasy\n",
            "9738                     AnimationComedyFantasy\n",
            "9739                                      Drama\n",
            "9740                            ActionAnimation\n",
            "9741                                     Comedy\n",
            "Name: genres, Length: 9742, dtype: object\n"
          ],
          "name": "stdout"
        }
      ]
    },
    {
      "cell_type": "code",
      "metadata": {
        "id": "Q4OtkYnvkpPk",
        "outputId": "944121c6-59c8-40b1-f7f0-93d6599cbc20",
        "colab": {
          "base_uri": "https://localhost:8080/"
        }
      },
      "source": [
        "# Inner join\n",
        "movie_ratings = pd.merge(movies, ratings, how='inner', on='movieId')\n",
        "print(movie_ratings.head().to_markdown())\n",
        "print(len(movie_ratings))\n",
        "print(len(movies))\n",
        "print(len(ratings))"
      ],
      "execution_count": null,
      "outputs": [
        {
          "output_type": "stream",
          "text": [
            "|    |   movieId | title            | genres                                      |   userId |   rating |   timestamp |\n",
            "|---:|----------:|:-----------------|:--------------------------------------------|---------:|---------:|------------:|\n",
            "|  0 |         1 | Toy Story (1995) | Adventure|Animation|Children|Comedy|Fantasy |        1 |      4   |   964982703 |\n",
            "|  1 |         1 | Toy Story (1995) | Adventure|Animation|Children|Comedy|Fantasy |        5 |      4   |   847434962 |\n",
            "|  2 |         1 | Toy Story (1995) | Adventure|Animation|Children|Comedy|Fantasy |        7 |      4.5 |  1106635946 |\n",
            "|  3 |         1 | Toy Story (1995) | Adventure|Animation|Children|Comedy|Fantasy |       15 |      2.5 |  1510577970 |\n",
            "|  4 |         1 | Toy Story (1995) | Adventure|Animation|Children|Comedy|Fantasy |       17 |      4.5 |  1305696483 |\n",
            "100836\n",
            "9742\n",
            "100836\n"
          ],
          "name": "stdout"
        }
      ]
    },
    {
      "cell_type": "code",
      "metadata": {
        "id": "IUcF1WP_LoXr"
      },
      "source": [
        "## Reverse order for parameters\n",
        "movie_ratings = pd.merge(ratings, movies, how='inner', on='movieId')\n",
        "print(movie_ratings.head().to_markdown())\n",
        "print(len(movie_ratings))"
      ],
      "execution_count": null,
      "outputs": []
    },
    {
      "cell_type": "code",
      "metadata": {
        "id": "b22smOHzO65B",
        "outputId": "bb97266e-e75d-4236-ed00-a37720bcd36d",
        "colab": {
          "base_uri": "https://localhost:8080/",
          "height": 265
        }
      },
      "source": [
        "# Plot line chart with dataframes\n",
        "x = np.linspace(0.5, 5, 10)\n",
        "y = ratings[[\"rating\", \"movieId\"]].groupby(\"rating\").count()\n",
        "\n",
        "plt.plot(x, y)\n",
        "plt.show()"
      ],
      "execution_count": null,
      "outputs": [
        {
          "output_type": "display_data",
          "data": {
            "image/png": "[encoded data removed]",
            "text/plain": [
              "<Figure size 432x288 with 1 Axes>"
            ]
          },
          "metadata": {
            "tags": [],
            "needs_background": "light"
          }
        }
      ]
    },
    {
      "cell_type": "code",
      "metadata": {
        "id": "TqjlO_qWKY9u",
        "outputId": "cb613710-e7a1-44df-f83e-cdce562a4b20",
        "colab": {
          "base_uri": "https://localhost:8080/",
          "height": 296
        }
      },
      "source": [
        "ratings[[\"rating\", \"movieId\"]].groupby(\"rating\").count().plot()"
      ],
      "execution_count": null,
      "outputs": [
        {
          "output_type": "execute_result",
          "data": {
            "text/plain": [
              "<matplotlib.axes._subplots.AxesSubplot at 0x7fefe4397198>"
            ]
          },
          "metadata": {
            "tags": []
          },
          "execution_count": 8
        },
        {
          "output_type": "display_data",
          "data": {
            "image/png": "[encoded data removed]",
            "text/plain": [
              "<Figure size 432x288 with 1 Axes>"
            ]
          },
          "metadata": {
            "tags": [],
            "needs_background": "light"
          }
        }
      ]
    },
    {
      "cell_type": "code",
      "metadata": {
        "id": "hVC8IJc9PEqY",
        "outputId": "d8b0bef0-52d8-4064-b4e1-266ebe69ad63",
        "colab": {
          "base_uri": "https://localhost:8080/",
          "height": 265
        }
      },
      "source": [
        "# Plot bar chart with dataframes\n",
        "x = np.linspace(0.5, 5, 10)\n",
        "y = ratings[[\"rating\", \"movieId\"]].groupby(\"rating\").movieId.count()\n",
        "\n",
        "plt.bar(x, y, width = 0.4)\n",
        "plt.show()"
      ],
      "execution_count": null,
      "outputs": [
        {
          "output_type": "display_data",
          "data": {
            "image/png": "[encoded data removed]",
            "text/plain": [
              "<Figure size 432x288 with 1 Axes>"
            ]
          },
          "metadata": {
            "tags": [],
            "needs_background": "light"
          }
        }
      ]
    },
    {
      "cell_type": "code",
      "metadata": {
        "id": "mBgL8YR1MBt8",
        "outputId": "c2b36d72-5fd2-42d8-8a57-f6c622b5ce0d",
        "colab": {
          "base_uri": "https://localhost:8080/",
          "height": 302
        }
      },
      "source": [
        "ratings[[\"rating\", \"movieId\"]].groupby(\"rating\").count().plot(kind=\"bar\")"
      ],
      "execution_count": null,
      "outputs": [
        {
          "output_type": "execute_result",
          "data": {
            "text/plain": [
              "<matplotlib.axes._subplots.AxesSubplot at 0x7fefe4196a20>"
            ]
          },
          "metadata": {
            "tags": []
          },
          "execution_count": 12
        },
        {
          "output_type": "display_data",
          "data": {
            "image/png": "[encoded data removed]",
            "text/plain": [
              "<Figure size 432x288 with 1 Axes>"
            ]
          },
          "metadata": {
            "tags": [],
            "needs_background": "light"
          }
        }
      ]
    },
    {
      "cell_type": "code",
      "metadata": {
        "id": "E8PNt8-ASdnW",
        "outputId": "3ab4f530-614c-4810-b32c-c474de73e87e",
        "colab": {
          "base_uri": "https://localhost:8080/"
        }
      },
      "source": [
        "# Separate column in several columns\n",
        "df_of_boolean = movies[\"genres\"].str.get_dummies(\"|\")\n",
        "\n",
        "print(df_of_boolean.head())\n",
        "print(len(list(movies.columns)))\n",
        "print(len(list(df_of_boolean.columns)))\n",
        "\n",
        "movies_genres_cat = pd.merge(movies, df_of_boolean, how='inner', on=movies.index, left_index=True, right_index=True)\n",
        "\n",
        "print(movies_genres_cat.head().to_markdown())\n",
        "print(len(movies_genres_cat.columns))"
      ],
      "execution_count": null,
      "outputs": [
        {
          "output_type": "stream",
          "text": [
            "   (no genres listed)  Action  Adventure  ...  Thriller  War  Western\n",
            "0                   0       0          1  ...         0    0        0\n",
            "1                   0       0          1  ...         0    0        0\n",
            "2                   0       0          0  ...         0    0        0\n",
            "3                   0       0          0  ...         0    0        0\n",
            "4                   0       0          0  ...         0    0        0\n",
            "\n",
            "[5 rows x 20 columns]\n",
            "3\n",
            "20\n",
            "|    |   movieId | title                              | genres                                      |   (no genres listed) |   Action |   Adventure |   Animation |   Children |   Comedy |   Crime |   Documentary |   Drama |   Fantasy |   Film-Noir |   Horror |   IMAX |   Musical |   Mystery |   Romance |   Sci-Fi |   Thriller |   War |   Western |\n",
            "|---:|----------:|:-----------------------------------|:--------------------------------------------|---------------------:|---------:|------------:|------------:|-----------:|---------:|--------:|--------------:|--------:|----------:|------------:|---------:|-------:|----------:|----------:|----------:|---------:|-----------:|------:|----------:|\n",
            "|  0 |         1 | Toy Story (1995)                   | Adventure|Animation|Children|Comedy|Fantasy |                    0 |        0 |           1 |           1 |          1 |        1 |       0 |             0 |       0 |         1 |           0 |        0 |      0 |         0 |         0 |         0 |        0 |          0 |     0 |         0 |\n",
            "|  1 |         2 | Jumanji (1995)                     | Adventure|Children|Fantasy                  |                    0 |        0 |           1 |           0 |          1 |        0 |       0 |             0 |       0 |         1 |           0 |        0 |      0 |         0 |         0 |         0 |        0 |          0 |     0 |         0 |\n",
            "|  2 |         3 | Grumpier Old Men (1995)            | Comedy|Romance                              |                    0 |        0 |           0 |           0 |          0 |        1 |       0 |             0 |       0 |         0 |           0 |        0 |      0 |         0 |         0 |         1 |        0 |          0 |     0 |         0 |\n",
            "|  3 |         4 | Waiting to Exhale (1995)           | Comedy|Drama|Romance                        |                    0 |        0 |           0 |           0 |          0 |        1 |       0 |             0 |       1 |         0 |           0 |        0 |      0 |         0 |         0 |         1 |        0 |          0 |     0 |         0 |\n",
            "|  4 |         5 | Father of the Bride Part II (1995) | Comedy                                      |                    0 |        0 |           0 |           0 |          0 |        1 |       0 |             0 |       0 |         0 |           0 |        0 |      0 |         0 |         0 |         0 |        0 |          0 |     0 |         0 |\n",
            "23\n"
          ],
          "name": "stdout"
        }
      ]
    },
    {
      "cell_type": "code",
      "metadata": {
        "id": "cuC7vOCjh75m",
        "outputId": "6820cbd1-6092-4774-fe71-c3d1bf273186",
        "colab": {
          "base_uri": "https://localhost:8080/"
        }
      },
      "source": [
        "movies_genres_cat.drop([\"movieId\", \"title\", \"genres\"], axis = 1).sum().plot(kind=\"bar\")"
      ],
      "execution_count": null,
      "outputs": [
        {
          "output_type": "execute_result",
          "data": {
            "text/plain": [
              "<matplotlib.axes._subplots.AxesSubplot at 0x7f78c8e944e0>"
            ]
          },
          "metadata": {
            "tags": []
          },
          "execution_count": 18
        },
        {
          "output_type": "display_data",
          "data": {
            "image/png": "[encoded data removed]",
            "text/plain": [
              "<Figure size 432x288 with 1 Axes>"
            ]
          },
          "metadata": {
            "tags": [],
            "needs_background": "light"
          }
        }
      ]
    },
    {
      "cell_type": "markdown",
      "metadata": {
        "id": "tbnZob6IplzM"
      },
      "source": [
        "### Some plots"
      ]
    },
    {
      "cell_type": "code",
      "metadata": {
        "id": "V7AowOR3pr49"
      },
      "source": [
        "import pandas as pd\n",
        "import numpy as np\n",
        "import matplotlib.pyplot as plt"
      ],
      "execution_count": null,
      "outputs": []
    },
    {
      "cell_type": "code",
      "metadata": {
        "id": "Njf7O-mrpsmO"
      },
      "source": [
        "links = pd.read_csv(\"/content/drive/My Drive/Colab Notebooks/links.csv\")\n",
        "movies = pd.read_csv(\"/content/drive/My Drive/Colab Notebooks/movies.csv\")\n",
        "ratings = pd.read_csv(\"/content/drive/My Drive/Colab Notebooks/ratings.csv\")"
      ],
      "execution_count": null,
      "outputs": []
    },
    {
      "cell_type": "code",
      "metadata": {
        "id": "YTuyAQIvj5cW"
      },
      "source": [
        "# Data cleaning\n",
        "# Fuse dataframes\n",
        "movie_ratings = pd.merge(ratings, movies, how='inner', on='movieId')\n",
        "# Get the year of each movie\n",
        "movie_ratings[\"year\"] = movie_ratings[\"title\"].str.replace(\" \", \"\").str[-5:-1]\n",
        "movie_ratings['year'] = pd.to_numeric(movie_ratings['year'], errors='coerce')\n",
        "movie_ratings = movie_ratings.dropna()\n",
        "# Get the date and year of rating\n",
        "movie_ratings['rating_date'] = pd.to_datetime(ratings['timestamp'], unit='s')\n",
        "movie_ratings['rating_year'] = pd.DatetimeIndex(movie_ratings['rating_date']).year\n",
        "movie_ratings['rating_year'] = pd.to_numeric(movie_ratings['rating_year'], errors='coerce')"
      ],
      "execution_count": 48,
      "outputs": []
    },
    {
      "cell_type": "code",
      "metadata": {
        "id": "d-S8xs7Co8RH",
        "outputId": "3ab7ef5f-ab13-4e83-984d-86faaa4cd44e",
        "colab": {
          "base_uri": "https://localhost:8080/",
          "height": 398
        }
      },
      "source": [
        "movie_ratings[\"rating\"].value_counts().sort_index().plot(kind=\"pie\", table = True, figsize = (6, 6))"
      ],
      "execution_count": 52,
      "outputs": [
        {
          "output_type": "execute_result",
          "data": {
            "text/plain": [
              "<matplotlib.axes._subplots.AxesSubplot at 0x7fa47735fba8>"
            ]
          },
          "metadata": {
            "tags": []
          },
          "execution_count": 52
        },
        {
          "output_type": "display_data",
          "data": {
            "image/png": "[encoded data removed]",
            "text/plain": [
              "<Figure size 432x432 with 1 Axes>"
            ]
          },
          "metadata": {
            "tags": []
          }
        }
      ]
    },
    {
      "cell_type": "code",
      "metadata": {
        "id": "_6YR0TvomKSS",
        "outputId": "c191066d-b03a-4ba6-ad24-e15832cc50ec",
        "colab": {
          "base_uri": "https://localhost:8080/",
          "height": 416
        }
      },
      "source": [
        "movie_ratings[\"year\"].value_counts().head(10).sort_index().plot(kind=\"bar\", figsize = (6, 6))"
      ],
      "execution_count": 51,
      "outputs": [
        {
          "output_type": "execute_result",
          "data": {
            "text/plain": [
              "<matplotlib.axes._subplots.AxesSubplot at 0x7fa47739e898>"
            ]
          },
          "metadata": {
            "tags": []
          },
          "execution_count": 51
        },
        {
          "output_type": "display_data",
          "data": {
            "image/png": "[encoded data removed]",
            "text/plain": [
              "<Figure size 432x432 with 1 Axes>"
            ]
          },
          "metadata": {
            "tags": [],
            "needs_background": "light"
          }
        }
      ]
    },
    {
      "cell_type": "code",
      "metadata": {
        "id": "BOMXmdl1ojNx",
        "outputId": "e6a08fd7-6903-4ff5-e265-3532ec25c09a",
        "colab": {
          "base_uri": "https://localhost:8080/",
          "height": 407
        }
      },
      "source": [
        "movie_ratings[\"rating_year\"].value_counts().head(10).sort_index().plot(kind=\"bar\", figsize = (6, 6))"
      ],
      "execution_count": 47,
      "outputs": [
        {
          "output_type": "execute_result",
          "data": {
            "text/plain": [
              "<matplotlib.axes._subplots.AxesSubplot at 0x7fa477193518>"
            ]
          },
          "metadata": {
            "tags": []
          },
          "execution_count": 47
        },
        {
          "output_type": "display_data",
          "data": {
            "image/png": "[encoded data removed]",
            "text/plain": [
              "<Figure size 432x432 with 1 Axes>"
            ]
          },
          "metadata": {
            "tags": [],
            "needs_background": "light"
          }
        }
      ]
    }
  ]
}