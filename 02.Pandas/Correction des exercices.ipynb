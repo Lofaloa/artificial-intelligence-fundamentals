{
  "nbformat": 4,
  "nbformat_minor": 0,
  "metadata": {
    "colab": {
      "name": "Exs DataFrame(intro).ipynb",
      "provenance": [],
      "collapsed_sections": [
        "SijGCLqCyKK2",
        "fOT0MCyF1-gO",
        "SvToSDOX2Fwl",
        "J9ZL5ulUJJeS"
      ],
      "toc_visible": true
    },
    "kernelspec": {
      "name": "python3",
      "display_name": "Python 3"
    }
  },
  "cells": [
    {
      "cell_type": "markdown",
      "metadata": {
        "id": "oDbVAN-IyFj6"
      },
      "source": [
        "# Dataframe"
      ]
    },
    {
      "cell_type": "markdown",
      "metadata": {
        "id": "Js-ELO2qv9eU"
      },
      "source": [
        "Using this link: https://grouplens.org/datasets/movielens/ , you can find the file **ml-latest-small.zip**. The zip contains various data files. You may load different files depending on the exercise."
      ]
    },
    {
      "cell_type": "markdown",
      "metadata": {
        "id": "SijGCLqCyKK2"
      },
      "source": [
        "# Question 1"
      ]
    },
    {
      "cell_type": "markdown",
      "metadata": {
        "id": "EVEhdGxk1j2F"
      },
      "source": [
        "Based on ratings dataset (using file **ratings.csv**):"
      ]
    },
    {
      "cell_type": "code",
      "metadata": {
        "id": "yhKopdMwYA00"
      },
      "source": [
        "import pandas as pd"
      ],
      "execution_count": 8,
      "outputs": []
    },
    {
      "cell_type": "code",
      "metadata": {
        "id": "d8VC6dumxnLR"
      },
      "source": [
        "links = pd.read_csv(\"/content/drive/My Drive/Colab Notebooks/links.csv\")\n",
        "movies = pd.read_csv(\"/content/drive/My Drive/Colab Notebooks/movies.csv\")\n",
        "ratings = pd.read_csv(\"/content/drive/My Drive/Colab Notebooks/ratings.csv\")"
      ],
      "execution_count": 9,
      "outputs": []
    },
    {
      "cell_type": "markdown",
      "metadata": {
        "id": "xZoDo7tc1tLN"
      },
      "source": [
        "1.1 How many marks were given?"
      ]
    },
    {
      "cell_type": "code",
      "metadata": {
        "id": "28Qtf0ZyYQB8",
        "outputId": "06559421-291a-465f-90f1-4b9739e3d4ba",
        "colab": {
          "base_uri": "https://localhost:8080/",
          "height": 34
        }
      },
      "source": [
        "print(len(ratings[\"rating\"]))"
      ],
      "execution_count": null,
      "outputs": [
        {
          "output_type": "execute_result",
          "data": {
            "text/plain": [
              "100836"
            ]
          },
          "metadata": {
            "tags": []
          },
          "execution_count": 7
        }
      ]
    },
    {
      "cell_type": "markdown",
      "metadata": {
        "id": "ihq-xjlq1v52"
      },
      "source": [
        "1.2\tHow many different marks were given?\n",
        "\n"
      ]
    },
    {
      "cell_type": "code",
      "metadata": {
        "id": "81LXkpEK1ztb",
        "outputId": "d62c6d40-21ed-4be0-bc1f-f9a22afe0ad5",
        "colab": {
          "base_uri": "https://localhost:8080/",
          "height": 34
        }
      },
      "source": [
        "print(ratings[\"rating\"].nunique())"
      ],
      "execution_count": null,
      "outputs": [
        {
          "output_type": "stream",
          "text": [
            "10\n"
          ],
          "name": "stdout"
        }
      ]
    },
    {
      "cell_type": "markdown",
      "metadata": {
        "id": "tEKwhUDd11g1"
      },
      "source": [
        "1.3 How many marks of 4 were given?"
      ]
    },
    {
      "cell_type": "code",
      "metadata": {
        "id": "6440RlU-14KU",
        "outputId": "6a610edf-2342-4514-bf6f-15abbbff41db",
        "colab": {
          "base_uri": "https://localhost:8080/",
          "height": 34
        }
      },
      "source": [
        "print(len(ratings[ratings[\"rating\"] == 4]))"
      ],
      "execution_count": null,
      "outputs": [
        {
          "output_type": "stream",
          "text": [
            "26818\n"
          ],
          "name": "stdout"
        }
      ]
    },
    {
      "cell_type": "markdown",
      "metadata": {
        "id": "KOd2fF8O14nN"
      },
      "source": [
        "1.4 Among these ratings of 4, what is the most popular movie?"
      ]
    },
    {
      "cell_type": "code",
      "metadata": {
        "id": "s3vmFhYm18Jl"
      },
      "source": [
        "rating4 = ratings[ratings[\"rating\"] ==4]\n",
        "rating4 = rating4.reset_index()\n",
        "nb_ratings_of_4_by_movieId = rating4[['rating',\"movieId\"]].groupby(\"movieId\",as_index=False).count()\n",
        "max_rating = nb_ratings_of_4_by_movieId[\"rating\"].max()\n",
        "\n",
        "print(nb_ratings_of_4_by_movieId[nb_ratings_of_4_by_movieId[\"rating\"] == max_rating])"
      ],
      "execution_count": null,
      "outputs": []
    },
    {
      "cell_type": "code",
      "metadata": {
        "id": "ZqfDfDSZct6o",
        "outputId": "17008ec8-bf94-4b5e-f5c7-0caf933969f8",
        "colab": {
          "base_uri": "https://localhost:8080/",
          "height": 218
        }
      },
      "source": [
        "rating4 = ratings[ratings[\"rating\"] ==4]\n",
        "print(rating4[\"movieId\"].value_counts())"
      ],
      "execution_count": null,
      "outputs": [
        {
          "output_type": "stream",
          "text": [
            "480       97\n",
            "593       97\n",
            "356       94\n",
            "1         82\n",
            "457       79\n",
            "          ..\n",
            "3211       1\n",
            "25750      1\n",
            "31909      1\n",
            "5288       1\n",
            "110586     1\n",
            "Name: movieId, Length: 5109, dtype: int64\n"
          ],
          "name": "stdout"
        }
      ]
    },
    {
      "cell_type": "markdown",
      "metadata": {
        "id": "4oMzp5Ck18qd"
      },
      "source": [
        "1.5\tHow many ratings where given in 2015?"
      ]
    },
    {
      "cell_type": "code",
      "metadata": {
        "id": "hXwGLRm01-H1",
        "outputId": "fc6cfc7b-8773-4c90-ddc4-a3ff86e4e904",
        "colab": {
          "base_uri": "https://localhost:8080/",
          "height": 34
        }
      },
      "source": [
        "ratings['rating_date'] = pd.to_datetime(ratings['timestamp'], unit='s')\n",
        "print(ratings[(ratings[\"rating_date\"] >='2015-01-01') & (ratings[\"rating_date\"] < '2016-01-01')].shape) "
      ],
      "execution_count": null,
      "outputs": [
        {
          "output_type": "stream",
          "text": [
            "(6616, 5)\n"
          ],
          "name": "stdout"
        }
      ]
    },
    {
      "cell_type": "markdown",
      "metadata": {
        "id": "fOT0MCyF1-gO"
      },
      "source": [
        "# Question 2\n",
        "Extract year from title into a new column of movie dataset"
      ]
    },
    {
      "cell_type": "code",
      "metadata": {
        "id": "J6SLfZLV2Afl",
        "outputId": "1b4844f4-e2b1-48ef-e7c8-646ebfcf223d",
        "colab": {
          "base_uri": "https://localhost:8080/",
          "height": 168
        }
      },
      "source": [
        "movies['year']=movies['title'].str.replace(\" \", \"\").str[-5:-1]\n",
        "print(movies.head())\n",
        "print(movies.shape)"
      ],
      "execution_count": 10,
      "outputs": [
        {
          "output_type": "stream",
          "text": [
            "   movieId  ...  year\n",
            "0        1  ...  1995\n",
            "1        2  ...  1995\n",
            "2        3  ...  1995\n",
            "3        4  ...  1995\n",
            "4        5  ...  1995\n",
            "\n",
            "[5 rows x 4 columns]\n",
            "(9742, 4)\n"
          ],
          "name": "stdout"
        }
      ]
    },
    {
      "cell_type": "code",
      "metadata": {
        "id": "_zXAGdxyQm1b",
        "outputId": "d31b792f-1f66-4050-896c-bc2b2c7aaae0",
        "colab": {
          "base_uri": "https://localhost:8080/",
          "height": 50
        }
      },
      "source": [
        "# To delete rows with an invalid value in column year\n",
        "movies[\"year\"] = pd.to_numeric(movies[\"year\"], errors=\"coerce\")\n",
        "print(movies.shape)\n",
        "\n",
        "movies = movies.dropna()\n",
        "print(movies.shape)"
      ],
      "execution_count": 11,
      "outputs": [
        {
          "output_type": "stream",
          "text": [
            "(9742, 4)\n",
            "(9730, 4)\n"
          ],
          "name": "stdout"
        }
      ]
    },
    {
      "cell_type": "markdown",
      "metadata": {
        "id": "SvToSDOX2Fwl"
      },
      "source": [
        "# Question 3\n",
        "From movie dataset, after having deleted movies without year (see Q2):"
      ]
    },
    {
      "cell_type": "markdown",
      "metadata": {
        "id": "dKQsSS5jqbz-"
      },
      "source": [
        "3.1 How many Thriller movies ?"
      ]
    },
    {
      "cell_type": "code",
      "metadata": {
        "id": "TyqcGCWa2FGf",
        "outputId": "407ef576-ab9b-4bb3-a720-486ec3c3b28c",
        "colab": {
          "base_uri": "https://localhost:8080/",
          "height": 34
        }
      },
      "source": [
        "is_thriller = movies['genres'].str.contains('Thriller')\n",
        "print(movies[is_thriller].shape)"
      ],
      "execution_count": 12,
      "outputs": [
        {
          "output_type": "stream",
          "text": [
            "(1892, 4)\n"
          ],
          "name": "stdout"
        }
      ]
    },
    {
      "cell_type": "markdown",
      "metadata": {
        "id": "RuDuuNYTqemu"
      },
      "source": [
        "3.2 How many movies in 2016 ?\n"
      ]
    },
    {
      "cell_type": "code",
      "metadata": {
        "id": "r5Ci8pOFqhPG",
        "outputId": "e336c1b6-80b9-4b46-d073-45bf5291f138",
        "colab": {
          "base_uri": "https://localhost:8080/",
          "height": 34
        }
      },
      "source": [
        "print(len(movies[movies.year == 2016]))"
      ],
      "execution_count": 13,
      "outputs": [
        {
          "output_type": "stream",
          "text": [
            "218\n"
          ],
          "name": "stdout"
        }
      ]
    },
    {
      "cell_type": "code",
      "metadata": {
        "id": "5mYI3yOuZBni",
        "outputId": "06ab3e8a-9e00-4204-b246-63dcb69c6467",
        "colab": {
          "base_uri": "https://localhost:8080/",
          "height": 34
        }
      },
      "source": [
        "print(\"There are\", sum(movies[\"year\"] == 2016), \"movies made in 2016.\")"
      ],
      "execution_count": 16,
      "outputs": [
        {
          "output_type": "stream",
          "text": [
            "There are 218 movies made in 2016.\n"
          ],
          "name": "stdout"
        }
      ]
    },
    {
      "cell_type": "markdown",
      "metadata": {
        "id": "6xTdSDqfqhb9"
      },
      "source": [
        "3.3 How many Thriller movies in 2016 ?"
      ]
    },
    {
      "cell_type": "code",
      "metadata": {
        "id": "EMGgYj9lqji2",
        "outputId": "38376cf4-7612-4e32-920e-600416cb1c02",
        "colab": {
          "base_uri": "https://localhost:8080/",
          "height": 34
        }
      },
      "source": [
        "print(len(movies[is_thriller & (movies[\"year\"] == 2016)]))"
      ],
      "execution_count": 14,
      "outputs": [
        {
          "output_type": "stream",
          "text": [
            "41\n"
          ],
          "name": "stdout"
        }
      ]
    },
    {
      "cell_type": "markdown",
      "metadata": {
        "id": "J9ZL5ulUJJeS"
      },
      "source": [
        "# Question 4\n",
        "Find best comedy movies based on average rating."
      ]
    },
    {
      "cell_type": "code",
      "metadata": {
        "id": "99jYCjZaJWYQ",
        "outputId": "5c1c0ce5-75f8-4551-fcba-c41364c1e3f6",
        "colab": {
          "base_uri": "https://localhost:8080/",
          "height": 252
        }
      },
      "source": [
        "is_comedy = movies['genres'].str.contains('Comedy')\n",
        "\n",
        "comedies = movies[is_comedy]\n",
        "\n",
        "#2. join with ratings dataset to get average rating\n",
        "\n",
        "movie_ratings = pd.merge(comedies, ratings,how='inner', on='movieId')\n",
        "\n",
        "#3. compute average rating by movie\n",
        "\n",
        "movie_ratings_avg = movie_ratings[['rating','title']].groupby('title',as_index=False).mean()\n",
        "movie_ratings_avg = movie_ratings_avg.sort_values(by='rating', ascending=False)\n",
        "\n",
        "max_rating = movie_ratings_avg[\"rating\"].max()\n",
        "print(movie_ratings_avg[movie_ratings_avg[\"rating\"] == max_rating])"
      ],
      "execution_count": 17,
      "outputs": [
        {
          "output_type": "stream",
          "text": [
            "                                             title  rating\n",
            "1267            George Carlin: Back in Town (1996)     5.0\n",
            "1513             Hollywood Chainsaw Hookers (1988)     5.0\n",
            "2912  Scooby-Doo! and the Loch Ness Monster (2004)     5.0\n",
            "2913      Scooby-Doo! and the Samurai Sword (2009)     5.0\n",
            "3616                    What Men Talk About (2010)     5.0\n",
            "...                                            ...     ...\n",
            "2675                                 Presto (2008)     5.0\n",
            "2164                               Meantime (1984)     5.0\n",
            "2364     My Life as McDull (Mak dau goo si) (2001)     5.0\n",
            "2519                                  Oscar (1967)     5.0\n",
            "2237                            Miss Nobody (2010)     5.0\n",
            "\n",
            "[144 rows x 2 columns]\n"
          ],
          "name": "stdout"
        }
      ]
    }
  ]
}